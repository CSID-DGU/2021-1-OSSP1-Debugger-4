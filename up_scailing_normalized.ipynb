{
  "nbformat": 4,
  "nbformat_minor": 0,
  "metadata": {
    "colab": {
      "name": "up_scailing.ipynb",
      "provenance": [],
      "collapsed_sections": [],
      "mount_file_id": "1Q-k9a9eKnVx_WlyrOfrn29bOJymriycq",
      "authorship_tag": "ABX9TyMmGdedLcYnasA+HGOHAT/H",
      "include_colab_link": true
    },
    "kernelspec": {
      "name": "python3",
      "display_name": "Python 3"
    },
    "language_info": {
      "name": "python"
    }
  },
  "cells": [
    {
      "cell_type": "markdown",
      "metadata": {
        "id": "view-in-github",
        "colab_type": "text"
      },
      "source": [
        "<a href=\"https://colab.research.google.com/github/CSID-DGU/2021-1-OSSP1-Debugger-4/blob/autoencoder/up_scailing_normalized.ipynb\" target=\"_parent\"><img src=\"https://colab.research.google.com/assets/colab-badge.svg\" alt=\"Open In Colab\"/></a>"
      ]
    },
    {
      "cell_type": "code",
      "metadata": {
        "id": "8WTkxUmiKJE_",
        "colab": {
          "base_uri": "https://localhost:8080/"
        },
        "outputId": "c6e9689d-7bfb-41a8-e574-77d471ca471d"
      },
      "source": [
        "cd ./drive/MyDrive/up_scailing/"
      ],
      "execution_count": 1,
      "outputs": [
        {
          "output_type": "stream",
          "text": [
            "/content/drive/MyDrive/up_scailing\n"
          ],
          "name": "stdout"
        }
      ]
    },
    {
      "cell_type": "code",
      "metadata": {
        "colab": {
          "base_uri": "https://localhost:8080/",
          "height": 35
        },
        "id": "ErSj_qbBK1to",
        "outputId": "ba32e5e5-952c-49cb-c864-95180f1cb8a2"
      },
      "source": [
        "pwd"
      ],
      "execution_count": 2,
      "outputs": [
        {
          "output_type": "execute_result",
          "data": {
            "application/vnd.google.colaboratory.intrinsic+json": {
              "type": "string"
            },
            "text/plain": [
              "'/content/drive/My Drive/up_scailing'"
            ]
          },
          "metadata": {
            "tags": []
          },
          "execution_count": 2
        }
      ]
    },
    {
      "cell_type": "code",
      "metadata": {
        "colab": {
          "base_uri": "https://localhost:8080/"
        },
        "id": "y9TOzEtsK2as",
        "outputId": "11a3dea2-1985-4f3d-b8e6-1b6f7e8bd1f8"
      },
      "source": [
        "!git clone https://github.com/idealo/image-super-resolution"
      ],
      "execution_count": 3,
      "outputs": [
        {
          "output_type": "stream",
          "text": [
            "Cloning into 'image-super-resolution'...\n",
            "remote: Enumerating objects: 1193, done.\u001b[K\n",
            "remote: Counting objects: 100% (6/6), done.\u001b[K\n",
            "remote: Compressing objects: 100% (5/5), done.\u001b[K\n",
            "remote: Total 1193 (delta 0), reused 0 (delta 0), pack-reused 1187\u001b[K\n",
            "Receiving objects: 100% (1193/1193), 14.95 MiB | 15.68 MiB/s, done.\n",
            "Resolving deltas: 100% (594/594), done.\n"
          ],
          "name": "stdout"
        }
      ]
    },
    {
      "cell_type": "code",
      "metadata": {
        "colab": {
          "base_uri": "https://localhost:8080/"
        },
        "id": "Lgtm2HJBK4nK",
        "outputId": "626a4073-1b7b-4de0-f3ae-0b43e92e6a96"
      },
      "source": [
        "cd ./image-super-resolution/"
      ],
      "execution_count": 4,
      "outputs": [
        {
          "output_type": "stream",
          "text": [
            "/content/drive/My Drive/up_scailing/image-super-resolution\n"
          ],
          "name": "stdout"
        }
      ]
    },
    {
      "cell_type": "code",
      "metadata": {
        "id": "ZtIfoRJtK-MT"
      },
      "source": [
        "import numpy as np\n",
        "from PIL import Image\n",
        "import matplotlib.pyplot as plt\n",
        "\n",
        "#img = Image.open('./images/test_1.jpg')\n",
        "#lr_img = np.array(img)"
      ],
      "execution_count": 24,
      "outputs": []
    },
    {
      "cell_type": "code",
      "metadata": {
        "id": "S4nQrZ33bANB"
      },
      "source": [
        "def showimg(img):\n",
        "  plt.imshow(img)\n",
        "  plt.show()"
      ],
      "execution_count": 30,
      "outputs": []
    },
    {
      "cell_type": "code",
      "metadata": {
        "id": "Dpb3KH_nLthS"
      },
      "source": [
        "from ISR.models import RDN\n",
        "\n",
        "rdn = RDN(weights='psnr-small')"
      ],
      "execution_count": 32,
      "outputs": []
    },
    {
      "cell_type": "code",
      "metadata": {
        "id": "RJEJ9sM2bZTf"
      },
      "source": [
        "rootpath = '../../A_Complete/A_' #..은 상위 폴더를 의미함\n",
        "size = 10\n",
        "\n",
        "for i in range(size):\n",
        "  path = rootpath\n",
        "  path = path + str(i) + '.jpg'\n",
        "  #print(path)\n",
        "  img = Image.open(path)\n",
        "  lr_img = np.array(img)\n",
        "  sr_img = rdn.predict(lr_img)\n",
        "  image = Image.fromarray(sr_img)\n",
        "  image.save(str(i) + '.jpg')"
      ],
      "execution_count": 40,
      "outputs": []
    },
    {
      "cell_type": "markdown",
      "metadata": {
        "id": "TiK7svDpdS1p"
      },
      "source": [
        "출력 잘 나옴"
      ]
    },
    {
      "cell_type": "code",
      "metadata": {
        "id": "qpmiQJWuPZSR"
      },
      "source": [
        ""
      ],
      "execution_count": null,
      "outputs": []
    }
  ]
}