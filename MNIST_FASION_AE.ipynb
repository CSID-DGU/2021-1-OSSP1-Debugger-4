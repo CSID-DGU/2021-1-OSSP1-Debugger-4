{
  "nbformat": 4,
  "nbformat_minor": 0,
  "metadata": {
    "colab": {
      "name": "MNIST FASION AE.ipynb",
      "provenance": [],
      "collapsed_sections": [],
      "authorship_tag": "ABX9TyO40LFWdPbFHjPdrQ4DPzBj"
    },
    "kernelspec": {
      "name": "python3",
      "display_name": "Python 3"
    },
    "language_info": {
      "name": "python"
    },
    "accelerator": "GPU"
  },
  "cells": [
    {
      "cell_type": "markdown",
      "metadata": {
        "id": "nLiexoqXwocL"
      },
      "source": [
        "[![Open In Colab](https://colab.research.google.com/assets/colab-badge.svg)](https://colab.research.google.com/github/googlecolab/colabtools/blob/master/notebooks/colab-github-demo.ipynb)"
      ]
    },
    {
      "cell_type": "code",
      "metadata": {
        "id": "m5vK9E6ZSnB-"
      },
      "source": [
        "\n",
        "# 라이브러리 설정\n",
        "import pandas as pd\n",
        "import numpy as np\n",
        "import tensorflow as tf\n",
        "import matplotlib.pyplot as plt\n",
        "import random\n",
        "\n",
        "from tensorflow.keras.models import Sequential\n",
        "from tensorflow.keras.layers import Flatten, Dense, Dropout\n",
        "from tensorflow.keras.layers import Conv2D, MaxPooling2D, Reshape\n",
        "\n",
        "# 랜덤 시드 고정\n",
        "SEED=2021\n",
        "random.seed(SEED)\n",
        "np.random.seed(SEED)\n",
        "tf.random.set_seed(SEED)"
      ],
      "execution_count": 3,
      "outputs": []
    },
    {
      "cell_type": "code",
      "metadata": {
        "id": "u9Zg9a5zSrQs",
        "colab": {
          "base_uri": "https://localhost:8080/"
        },
        "outputId": "7eb606a1-d652-4732-abc9-c0e09f957a10"
      },
      "source": [
        "# 케라스에서 불러오기\n",
        "from tensorflow.keras import datasets\n",
        "fashion_mnist = datasets.fashion_mnist\n",
        "(X_train, y_train), (X_test, y_test) = fashion_mnist.load_data()\n",
        "\n",
        "\n",
        "# 피처 스케일링\n",
        "X_train = X_train / 255.\n",
        "X_test = X_test /255.\n",
        "\n",
        "\n",
        "# 차원 추가\n",
        "X_train = X_train.reshape(60000,28,28,1)\n",
        "X_test = X_test.reshape(10000,28,28,1)\n",
        "\n",
        "\n",
        "print(X_train.shape, y_train.shape, X_test.shape, y_test.shape)"
      ],
      "execution_count": 4,
      "outputs": [
        {
          "output_type": "stream",
          "text": [
            "Downloading data from https://storage.googleapis.com/tensorflow/tf-keras-datasets/train-labels-idx1-ubyte.gz\n",
            "32768/29515 [=================================] - 0s 0us/step\n",
            "Downloading data from https://storage.googleapis.com/tensorflow/tf-keras-datasets/train-images-idx3-ubyte.gz\n",
            "26427392/26421880 [==============================] - 0s 0us/step\n",
            "Downloading data from https://storage.googleapis.com/tensorflow/tf-keras-datasets/t10k-labels-idx1-ubyte.gz\n",
            "8192/5148 [===============================================] - 0s 0us/step\n",
            "Downloading data from https://storage.googleapis.com/tensorflow/tf-keras-datasets/t10k-images-idx3-ubyte.gz\n",
            "4423680/4422102 [==============================] - 0s 0us/step\n",
            "(60000, 28, 28, 1) (60000,) (10000, 28, 28, 1) (10000,)\n"
          ],
          "name": "stdout"
        }
      ]
    },
    {
      "cell_type": "code",
      "metadata": {
        "id": "FdYqVLT6SuTJ",
        "colab": {
          "base_uri": "https://localhost:8080/"
        },
        "outputId": "7986cdcf-c0c2-45d2-c890-282cba329641"
      },
      "source": [
        "# 오토인코더 모델 정의\n",
        "def Autoencoder():\n",
        "  #model = Sequnetial()\n",
        "\n",
        "  X = tf.keras.layers.Input(shape=[28,28,1])\n",
        "  H = tf.keras.layers.Conv2D(32, kernel_size=5,activation='swish')(X)\n",
        "  H = tf.keras.layers.MaxPool2D()(H)\n",
        "  H = tf.keras.layers.Conv2D(32, kernel_size=5,activation='swish')(H)\n",
        "  H = tf.keras.layers.MaxPool2D()(H)\n",
        "  H = tf.keras.layers.Flatten()(H)\n",
        "\n",
        "  #decode\n",
        "  H = tf.keras.layers.Dense(20,activation='swish')(H)\n",
        "  H = tf.keras.layers.Dense(4*4*32,activation='swish')(H)\n",
        "  H = Reshape((4,4,32))(H)\n",
        "  H = tf.keras.layers.UpSampling2D()(H)\n",
        "  H = tf.keras.layers.Conv2DTranspose(32,5,activation='swish')(H)\n",
        "  H = tf.keras.layers.UpSampling2D()(H)\n",
        "  H = tf.keras.layers.Conv2DTranspose(1,5,activation='swish')(H)\n",
        "\n",
        "  model = tf.keras.models.Model(X,H)\n",
        "  model.compile(optimizer='adam',loss='mean_squared_error')\n",
        "\n",
        "  return model\n",
        "\n",
        "ae_model = Autoencoder()\n",
        "ae_model.summary()"
      ],
      "execution_count": 6,
      "outputs": [
        {
          "output_type": "stream",
          "text": [
            "Model: \"model_1\"\n",
            "_________________________________________________________________\n",
            "Layer (type)                 Output Shape              Param #   \n",
            "=================================================================\n",
            "input_2 (InputLayer)         [(None, 28, 28, 1)]       0         \n",
            "_________________________________________________________________\n",
            "conv2d_2 (Conv2D)            (None, 24, 24, 32)        832       \n",
            "_________________________________________________________________\n",
            "max_pooling2d_2 (MaxPooling2 (None, 12, 12, 32)        0         \n",
            "_________________________________________________________________\n",
            "conv2d_3 (Conv2D)            (None, 8, 8, 32)          25632     \n",
            "_________________________________________________________________\n",
            "max_pooling2d_3 (MaxPooling2 (None, 4, 4, 32)          0         \n",
            "_________________________________________________________________\n",
            "flatten_1 (Flatten)          (None, 512)               0         \n",
            "_________________________________________________________________\n",
            "dense_2 (Dense)              (None, 20)                10260     \n",
            "_________________________________________________________________\n",
            "dense_3 (Dense)              (None, 512)               10752     \n",
            "_________________________________________________________________\n",
            "reshape_1 (Reshape)          (None, 4, 4, 32)          0         \n",
            "_________________________________________________________________\n",
            "up_sampling2d_2 (UpSampling2 (None, 8, 8, 32)          0         \n",
            "_________________________________________________________________\n",
            "conv2d_transpose_2 (Conv2DTr (None, 12, 12, 32)        25632     \n",
            "_________________________________________________________________\n",
            "up_sampling2d_3 (UpSampling2 (None, 24, 24, 32)        0         \n",
            "_________________________________________________________________\n",
            "conv2d_transpose_3 (Conv2DTr (None, 28, 28, 1)         801       \n",
            "=================================================================\n",
            "Total params: 73,909\n",
            "Trainable params: 73,909\n",
            "Non-trainable params: 0\n",
            "_________________________________________________________________\n"
          ],
          "name": "stdout"
        }
      ]
    },
    {
      "cell_type": "code",
      "metadata": {
        "id": "iZ9IlcMWSvel",
        "colab": {
          "base_uri": "https://localhost:8080/"
        },
        "outputId": "74fa1ad4-3611-4013-b025-577bf6fb794f"
      },
      "source": [
        "# 오토인코더 모델 학습\n",
        "history = ae_model.fit(X_train, X_train, batch_size=64, epochs=20, verbose=1)\n",
        "\n",
        "ae_images = ae_model.predict(X_test)\n",
        "ae_images.shape"
      ],
      "execution_count": 14,
      "outputs": [
        {
          "output_type": "stream",
          "text": [
            "Epoch 1/10\n",
            "938/938 [==============================] - 4s 4ms/step - loss: 0.0108\n",
            "Epoch 2/10\n",
            "938/938 [==============================] - 4s 4ms/step - loss: 0.0108\n",
            "Epoch 3/10\n",
            "938/938 [==============================] - 4s 4ms/step - loss: 0.0107\n",
            "Epoch 4/10\n",
            "938/938 [==============================] - 4s 4ms/step - loss: 0.0107\n",
            "Epoch 5/10\n",
            "938/938 [==============================] - 4s 4ms/step - loss: 0.0106\n",
            "Epoch 6/10\n",
            "938/938 [==============================] - 4s 4ms/step - loss: 0.0106\n",
            "Epoch 7/10\n",
            "938/938 [==============================] - 4s 4ms/step - loss: 0.0105\n",
            "Epoch 8/10\n",
            "938/938 [==============================] - 4s 4ms/step - loss: 0.0105\n",
            "Epoch 9/10\n",
            "938/938 [==============================] - 4s 4ms/step - loss: 0.0105\n",
            "Epoch 10/10\n",
            "938/938 [==============================] - 4s 4ms/step - loss: 0.0105\n"
          ],
          "name": "stdout"
        },
        {
          "output_type": "execute_result",
          "data": {
            "text/plain": [
              "(10000, 28, 28, 1)"
            ]
          },
          "metadata": {
            "tags": []
          },
          "execution_count": 14
        }
      ]
    },
    {
      "cell_type": "code",
      "metadata": {
        "id": "b56sspxOSxJA",
        "colab": {
          "base_uri": "https://localhost:8080/",
          "height": 379
        },
        "outputId": "7675807d-3ba5-4106-f105-31c9152f8a92"
      },
      "source": [
        "num = 10 \n",
        "plt.figure(figsize=(20,8))\n",
        "\n",
        "for i in range(10):\n",
        "    # 원본 이미지\n",
        "    ax = plt.subplot(2, num, i+1)\n",
        "    plt.imshow(X_test[i].reshape((28,28)), cmap='gray')\n",
        "    plt.title(\"Original %s\" % str(i))\n",
        "    plt.axis('off')\n",
        "    \n",
        "    # 복원 이미지\n",
        "    ax = plt.subplot(2, num, i+num+1)\n",
        "    plt.imshow(ae_images[i].reshape((28,28)), cmap='gray')\n",
        "    plt.title(\"Auto-encoded %s\" % str(i))\n",
        "    plt.axis('off')\n",
        "    \n",
        "plt.show()"
      ],
      "execution_count": 13,
      "outputs": [
        {
          "output_type": "display_data",
          "data": {
            "image/png": "[encoded data removed]",
            "text/plain": [
              "<Figure size 1440x576 with 20 Axes>"
            ]
          },
          "metadata": {
            "tags": [],
            "needs_background": "light"
          }
        }
      ]
    }
  ]
}