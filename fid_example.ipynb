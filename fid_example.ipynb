{
  "nbformat": 4,
  "nbformat_minor": 0,
  "metadata": {
    "colab": {
      "name": "fid_example.ipynb",
      "provenance": [],
      "collapsed_sections": [],
      "authorship_tag": "ABX9TyMb3WhSZP2RJFmLaVBOsB3X",
      "include_colab_link": true
    },
    "kernelspec": {
      "name": "python3",
      "display_name": "Python 3"
    },
    "language_info": {
      "name": "python"
    },
    "accelerator": "GPU"
  },
  "cells": [
    {
      "cell_type": "markdown",
      "metadata": {
        "id": "view-in-github",
        "colab_type": "text"
      },
      "source": [
        "<a href=\"https://colab.research.google.com/github/CSID-DGU/2021-1-OSSP1-Debugger-4/blob/Fid-score/fid_example.ipynb\" target=\"_parent\"><img src=\"https://colab.research.google.com/assets/colab-badge.svg\" alt=\"Open In Colab\"/></a>"
      ]
    },
    {
      "cell_type": "code",
      "metadata": {
        "colab": {
          "base_uri": "https://localhost:8080/"
        },
        "id": "-NhSrdbcuuBg",
        "outputId": "f58bb6b3-63b9-43ee-d22f-ac90d1cf0051"
      },
      "source": [
        "from google.colab import drive\n",
        "drive.mount('/content/drive')"
      ],
      "execution_count": null,
      "outputs": [
        {
          "output_type": "stream",
          "text": [
            "Mounted at /content/drive\n"
          ],
          "name": "stdout"
        }
      ]
    },
    {
      "cell_type": "code",
      "metadata": {
        "id": "O80c7Q-W5j6B",
        "colab": {
          "base_uri": "https://localhost:8080/"
        },
        "outputId": "ef110cb8-3c38-4d1f-a113-1ebbb2b384a3"
      },
      "source": [
        "from __future__ import absolute_import, division, print_function\n",
        "import os\n",
        "import glob\n",
        "\n",
        "#os.environ['CUDA_VISIBLE_DEVICES'] = '0'\n",
        "#fid 실행 예시 코드\n",
        "\n",
        "import numpy as np\n",
        "!pip install import_ipynb\n",
        "import import_ipynb"
      ],
      "execution_count": null,
      "outputs": [
        {
          "output_type": "stream",
          "text": [
            "Requirement already satisfied: import_ipynb in /usr/local/lib/python3.7/dist-packages (0.1.3)\n"
          ],
          "name": "stdout"
        }
      ]
    },
    {
      "cell_type": "code",
      "metadata": {
        "id": "DBHeUUkVLJuG"
      },
      "source": [
        "import tensorflow as tf"
      ],
      "execution_count": 42,
      "outputs": []
    },
    {
      "cell_type": "code",
      "metadata": {
        "id": "6JwVWL9ZLZIG"
      },
      "source": [
        "import sys\n",
        "sys.path.insert(0,'/content/drive/My Drive/Colab Notebooks')\n"
      ],
      "execution_count": 45,
      "outputs": []
    },
    {
      "cell_type": "code",
      "metadata": {
        "id": "IRre-01wPls-"
      },
      "source": [
        "import fid \n",
        "from scipy.misc import imread"
      ],
      "execution_count": null,
      "outputs": []
    },
    {
      "cell_type": "code",
      "metadata": {
        "id": "9Jf--3izYQI_"
      },
      "source": [
        "# Paths 비교 이미지 경로\n",
        "\n",
        "image_path = '/tmp/images' # set path to some generated images \n",
        "stats_path = 'fid_stats.npz' # training set statistics \n",
        "inception_path = fid.check_or_download_inception(None) # download inception network \n",
        "\n",
        "# loads all images into memory (this might require a lot of RAM!)\n",
        "image_list = glob.glob(os.path.join(image_path, '*.jpg'))\n",
        "images = np.array([imread(str(fn)).astype(np.float32) for fn in files])\n",
        "\n",
        "# load precalculated training set statistics \n",
        "f = np.load(stats_path)\n",
        "mu_real, sigma_real = f['mu'][:], f['sigma'][:]\n",
        "f.close()\n",
        "\n",
        "fid.create_inception_graph(inception_path)  # load the graph into the current TF graph\n",
        "with tf.Session() as sess:\n",
        "    sess.run(tf.global_variables_initializer())\n",
        "    mu_gen, sigma_gen = fid.calculate_activation_statistics(images, sess, batch_size=100)\n",
        "\n",
        "fid_value = fid.calculate_frechet_distance(mu_gen, sigma_gen, mu_real, sigma_real)\n",
        "print(\"FID: %s\" % fid_value)"
      ],
      "execution_count": null,
      "outputs": []
    }
  ]
}