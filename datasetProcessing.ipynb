{
  "nbformat": 4,
  "nbformat_minor": 0,
  "metadata": {
    "colab": {
      "name": "datasetProcessing.ipynb",
      "provenance": [],
      "collapsed_sections": [],
      "authorship_tag": "ABX9TyNgPBKLsrwtej3x+zsBvWwr",
      "include_colab_link": true
    },
    "kernelspec": {
      "name": "python3",
      "display_name": "Python 3"
    },
    "language_info": {
      "name": "python"
    }
  },
  "cells": [
    {
      "cell_type": "markdown",
      "metadata": {
        "id": "view-in-github",
        "colab_type": "text"
      },
      "source": [
        "<a href=\"https://colab.research.google.com/github/CSID-DGU/2021-1-OSSP1-Debugger-4/blob/autoencoder/datasetProcessing.ipynb\" target=\"_parent\"><img src=\"https://colab.research.google.com/assets/colab-badge.svg\" alt=\"Open In Colab\"/></a>"
      ]
    },
    {
      "cell_type": "code",
      "metadata": {
        "colab": {
          "base_uri": "https://localhost:8080/"
        },
        "id": "TSNBYEAr8JxG",
        "outputId": "b2f15de6-f800-4e4a-8b87-bbbf408873eb"
      },
      "source": [
        "from google.colab import drive\n",
        "drive.mount('/gdrive')"
      ],
      "execution_count": null,
      "outputs": [
        {
          "output_type": "stream",
          "text": [
            "Mounted at /gdrive\n"
          ],
          "name": "stdout"
        }
      ]
    },
    {
      "cell_type": "code",
      "metadata": {
        "colab": {
          "base_uri": "https://localhost:8080/"
        },
        "id": "LrrCcm_h8bBS",
        "outputId": "78aeef20-a6f0-4290-97b2-1a4a20b81a22"
      },
      "source": [
        "import cv2\n",
        "import dlib\n",
        "import imutils\n",
        "import numpy as np\n",
        "from google.colab.patches import cv2_imshow\n",
        "from imutils import face_utils\n",
        "\n",
        "detector = dlib.get_frontal_face_detector()\n",
        "img = cv2.imread('/gdrive/MyDrive/opencv/C19.jpg')\n",
        "\n",
        "gray = cv2.cvtColor(img, cv2.COLOR_BGR2GRAY)\n",
        "#cv2_imshow(gray)\n",
        "rects = detector(gray,1)\n",
        "roi = rects[0]\n",
        "(x,y,w,h) = face_utils.rect_to_bb(roi)\n",
        "img = img[y:y+h, x:x+w]\n",
        "#cv2_imshow(img)\n",
        "\n",
        "#print(w,h)\n",
        "img = cv2.resize(img,(128,128))\n",
        "#cv2_imshow(img)\n",
        "#print(img.shape)\n",
        "cv2.imwrite('/gdrive/MyDrive/1.jpg',img)"
      ],
      "execution_count": 30,
      "outputs": [
        {
          "output_type": "execute_result",
          "data": {
            "text/plain": [
              "True"
            ]
          },
          "metadata": {
            "tags": []
          },
          "execution_count": 30
        }
      ]
    }
  ]
}