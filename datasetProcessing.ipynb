{
  "nbformat": 4,
  "nbformat_minor": 0,
  "metadata": {
    "colab": {
      "name": "datasetProcessing.ipynb",
      "provenance": [],
      "collapsed_sections": []
    },
    "kernelspec": {
      "name": "python3",
      "display_name": "Python 3"
    },
    "language_info": {
      "name": "python"
    }
  },
  "cells": [
    {
      "cell_type": "code",
      "metadata": {
        "colab": {
          "base_uri": "https://localhost:8080/"
        },
        "id": "7HOEHb0KKF6q",
        "outputId": "cb1f1a9b-b922-4154-fea8-277b136e17cd"
      },
      "source": [
        "from google.colab import drive\n",
        "drive.mount('/content/drive')"
      ],
      "execution_count": 1,
      "outputs": [
        {
          "output_type": "stream",
          "text": [
            "Mounted at /content/drive\n"
          ],
          "name": "stdout"
        }
      ]
    },
    {
      "cell_type": "code",
      "metadata": {
        "id": "4Dj9tRQWddwa"
      },
      "source": [
        "import zipfile\n",
        "zipfile.ZipFile('./drive/MyDrive/Extract_2/2.zip').extractall('./drive/MyDrive/B/') #K_face Pre Processing으로 생성된 압축파일 해제"
      ],
      "execution_count": 2,
      "outputs": []
    },
    {
      "cell_type": "code",
      "metadata": {
        "id": "LrrCcm_h8bBS",
        "colab": {
          "base_uri": "https://localhost:8080/",
          "height": 362
        },
        "outputId": "a02cd96b-b2e5-4c60-a31d-fa7966faef73"
      },
      "source": [
        "import cv2\n",
        "import dlib\n",
        "import glob\n",
        "import imutils \n",
        "from imutils import face_utils\n",
        "from google.colab.patches import cv2_imshow\n",
        "\n",
        "\n",
        "imgs = glob.glob('./drive/MyDrive/B/*.jpg')   #이미지등 한번에 Load\n",
        "print(len(imgs)) #43200개.\n",
        "\n",
        "\n",
        "for i in range(0,len(imgs)):\n",
        "  if i % len(imgs) == 0:\n",
        "    print(\"{} / 100\".format(i))\n",
        "    \n",
        "  detector = dlib.get_frontal_face_detector()\n",
        "  img = cv2.imread(imgs[i])\n",
        "  gray = cv2.cvtColor(img, cv2.COLOR_BGR2GRAY)\n",
        "  rects = detector(gray,1)\n",
        "\n",
        "  try:  #검출에 성공시,\n",
        "    roi = rects[0]\n",
        "  except: #검출 실패시, img 번호 출력\n",
        "    print(f\"Error : {imgs[i]}\")\n",
        "    \n",
        "  (x,y,w,h) = face_utils.rect_to_bb(roi)\n",
        "  img = img[y:y+h, x:x+w]\n",
        "  img = cv2.resize(img,(128,128))\n",
        "  #cv2_imshow(img)\n",
        "  cv2.imwrite(f'./drive/MyDrive/B_Complete/B_{i}.jpg',img) #imwrite를 하기전에 드라이브에 실제로 폴더 경로가 존재해야 생성이 됨!!!!!!!!!!!!!!!!!!!!!!"
      ],
      "execution_count": null,
      "outputs": [
        {
          "output_type": "stream",
          "text": [
            "432\n",
            "0 / 100\n",
            "Error : ./drive/MyDrive/A_001/129.jpg\n",
            "Error : ./drive/MyDrive/A_001/165.jpg\n",
            "Error : ./drive/MyDrive/A_001/163.jpg\n",
            "Error : ./drive/MyDrive/A_001/20.jpg\n",
            "Error : ./drive/MyDrive/A_001/19.jpg\n"
          ],
          "name": "stdout"
        },
        {
          "output_type": "error",
          "ename": "KeyboardInterrupt",
          "evalue": "ignored",
          "traceback": [
            "\u001b[0;31m---------------------------------------------------------------------------\u001b[0m",
            "\u001b[0;31mKeyboardInterrupt\u001b[0m                         Traceback (most recent call last)",
            "\u001b[0;32m<ipython-input-36-a324bbe65298>\u001b[0m in \u001b[0;36m<module>\u001b[0;34m()\u001b[0m\n\u001b[1;32m     15\u001b[0m     \u001b[0mprint\u001b[0m\u001b[0;34m(\u001b[0m\u001b[0;34m\"{} / 100\"\u001b[0m\u001b[0;34m.\u001b[0m\u001b[0mformat\u001b[0m\u001b[0;34m(\u001b[0m\u001b[0mi\u001b[0m\u001b[0;34m)\u001b[0m\u001b[0;34m)\u001b[0m\u001b[0;34m\u001b[0m\u001b[0;34m\u001b[0m\u001b[0m\n\u001b[1;32m     16\u001b[0m \u001b[0;34m\u001b[0m\u001b[0m\n\u001b[0;32m---> 17\u001b[0;31m   \u001b[0mdetector\u001b[0m \u001b[0;34m=\u001b[0m \u001b[0mdlib\u001b[0m\u001b[0;34m.\u001b[0m\u001b[0mget_frontal_face_detector\u001b[0m\u001b[0;34m(\u001b[0m\u001b[0;34m)\u001b[0m\u001b[0;34m\u001b[0m\u001b[0;34m\u001b[0m\u001b[0m\n\u001b[0m\u001b[1;32m     18\u001b[0m   \u001b[0mimg\u001b[0m \u001b[0;34m=\u001b[0m \u001b[0mcv2\u001b[0m\u001b[0;34m.\u001b[0m\u001b[0mimread\u001b[0m\u001b[0;34m(\u001b[0m\u001b[0mimgs\u001b[0m\u001b[0;34m[\u001b[0m\u001b[0mi\u001b[0m\u001b[0;34m]\u001b[0m\u001b[0;34m)\u001b[0m\u001b[0;34m\u001b[0m\u001b[0;34m\u001b[0m\u001b[0m\n\u001b[1;32m     19\u001b[0m   \u001b[0mgray\u001b[0m \u001b[0;34m=\u001b[0m \u001b[0mcv2\u001b[0m\u001b[0;34m.\u001b[0m\u001b[0mcvtColor\u001b[0m\u001b[0;34m(\u001b[0m\u001b[0mimg\u001b[0m\u001b[0;34m,\u001b[0m \u001b[0mcv2\u001b[0m\u001b[0;34m.\u001b[0m\u001b[0mCOLOR_BGR2GRAY\u001b[0m\u001b[0;34m)\u001b[0m\u001b[0;34m\u001b[0m\u001b[0;34m\u001b[0m\u001b[0m\n",
            "\u001b[0;31mKeyboardInterrupt\u001b[0m: "
          ]
        }
      ]
    }
  ]
}