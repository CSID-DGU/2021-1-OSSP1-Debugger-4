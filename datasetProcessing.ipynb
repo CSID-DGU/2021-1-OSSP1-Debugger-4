{
  "nbformat": 4,
  "nbformat_minor": 0,
  "metadata": {
    "colab": {
      "name": "datasetProcessing.ipynb",
      "provenance": [],
      "collapsed_sections": [],
      "include_colab_link": true
    },
    "kernelspec": {
      "name": "python3",
      "display_name": "Python 3"
    },
    "language_info": {
      "name": "python"
    }
  },
  "cells": [
    {
      "cell_type": "markdown",
      "metadata": {
        "id": "view-in-github",
        "colab_type": "text"
      },
      "source": [
        "<a href=\"https://colab.research.google.com/github/CSID-DGU/2021-1-OSSP1-Debugger-4/blob/autoencoder/datasetProcessing.ipynb\" target=\"_parent\"><img src=\"https://colab.research.google.com/assets/colab-badge.svg\" alt=\"Open In Colab\"/></a>"
      ]
    },
    {
      "cell_type": "code",
      "metadata": {
        "colab": {
          "base_uri": "https://localhost:8080/"
        },
        "id": "7HOEHb0KKF6q",
        "outputId": "01cfa15d-1a0c-46e2-91d1-3e142e070342"
      },
      "source": [
        "from google.colab import drive\n",
        "drive.mount('/content/drive')"
      ],
      "execution_count": 2,
      "outputs": [
        {
          "output_type": "stream",
          "text": [
            "Mounted at /content/drive\n"
          ],
          "name": "stdout"
        }
      ]
    },
    {
      "cell_type": "code",
      "metadata": {
        "id": "LrrCcm_h8bBS"
      },
      "source": [
        "import cv2\n",
        "import dlib\n",
        "import glob\n",
        "import imutils \n",
        "from imutils import face_utils\n",
        "from google.colab.patches import cv2_imshow\n",
        "\n",
        "imgs = glob.glob('./drive/MyDrive/B/*/*.jpg')   #B/B_1/~.jpg , B/B_2/~.jpg 등 한번에 Load\n",
        "\n",
        "\n",
        "detector = dlib.get_frontal_face_detector()\n",
        "\n",
        "for i in range(0,len(imgs)):\n",
        "  if i % 100 == 0:\n",
        "    print(\"{} / 100\".format(i))\n",
        "    img = cv2.imread(imgs[i])\n",
        "    gray = cv2.cvtColor(img, cv2.COLOR_BGR2GRAY)\n",
        "    rects = detector(gray,1)\n",
        "    roi = rects[0]\n",
        "    (x,y,w,h) = face_utils.rect_to_bb(roi)\n",
        "    img = img[y:y+h, x:x+w]\n",
        "    img = cv2.resize(img,(128,128))\n",
        "    cv2_imshow(img)\n",
        "    cv2.imwrite(f'./drive/MyDrive/B_{i}.jpg',img) #imwrite를 하기전에 드라이브에 실제로 폴더 경로가 존재해야 생성이 됨!!!!!!!!!!!!!!!!!!!!!!"
      ],
      "execution_count": 21,
      "outputs": []
    }
  ]
}