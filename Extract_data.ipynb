{
  "nbformat": 4,
  "nbformat_minor": 0,
  "metadata": {
    "colab": {
      "name": "Extract_data.ipynb",
      "provenance": [],
      "collapsed_sections": [],
      "mount_file_id": "121YAMF_2jwIv5lzz5sxhSwf6iaLgpWtk",
      "authorship_tag": "ABX9TyM2qrXVZzpdBIYMQhgRYF1a",
      "include_colab_link": true
    },
    "kernelspec": {
      "name": "python3",
      "display_name": "Python 3"
    },
    "language_info": {
      "name": "python"
    }
  },
  "cells": [
    {
      "cell_type": "markdown",
      "metadata": {
        "id": "view-in-github",
        "colab_type": "text"
      },
      "source": [
        "<a href=\"https://colab.research.google.com/github/CSID-DGU/2021-1-OSSP1-Debugger-4/blob/autoencoder/Extract_data.ipynb\" target=\"_parent\"><img src=\"https://colab.research.google.com/assets/colab-badge.svg\" alt=\"Open In Colab\"/></a>"
      ]
    },
    {
      "cell_type": "markdown",
      "metadata": {
        "id": "vrEpT7JWhNB6"
      },
      "source": [
        "0-43199까지의 파일 중\n",
        "\n",
        "S003\n",
        "\n",
        "L5-L6\n",
        "\n",
        "C15-C17 C19-C20\n",
        "\n",
        "을 빼고\n",
        "\n",
        "S001,S002\n",
        "\n",
        "L1-L4\n",
        "\n",
        "E1-E2\n",
        "\n",
        "C4-C10\n",
        "\n",
        "만 뽑아낼 수 있게 해보자"
      ]
    },
    {
      "cell_type": "code",
      "metadata": {
        "colab": {
          "base_uri": "https://localhost:8080/"
        },
        "id": "nuyFBlIZhzPm",
        "outputId": "aa23e637-ce8b-45f9-f3cd-ef9a030077b5"
      },
      "source": [
        "from google.colab import drive\n",
        "drive.mount('/content/drive')"
      ],
      "execution_count": 1,
      "outputs": [
        {
          "output_type": "stream",
          "text": [
            "Mounted at /content/drive\n"
          ],
          "name": "stdout"
        }
      ]
    },
    {
      "cell_type": "markdown",
      "metadata": {
        "id": "Roga-kPmu0JB"
      },
      "source": [
        "100명별로 indexing된 자료들 중 필요한 부분의 숫자를 뽑아내는 부분"
      ]
    },
    {
      "cell_type": "code",
      "metadata": {
        "id": "6Hy9UjnflI7U"
      },
      "source": [
        "import sys, os\n",
        "\n",
        "num = 0\n",
        "index = []\n",
        "for a in range(100):\n",
        "  for i in range(2): #S001-S002\n",
        "    #print('S' + str(i + 1))\n",
        "    for j in range(4): #L1-L4\n",
        "      #print('L' + str(j + 1))\n",
        "      for k in range(2): #E1-E2\n",
        "        #print('E' + str(k + 1))\n",
        "        for x in range(7): #C달고있는 12개 중 7개만\n",
        "          index.append(num)\n",
        "        num = num + 5\n",
        "    num = num + 48  \n",
        "  "
      ],
      "execution_count": 1,
      "outputs": []
    },
    {
      "cell_type": "code",
      "metadata": {
        "colab": {
          "base_uri": "https://localhost:8080/"
        },
        "id": "Q6nVQVY6qj5z",
        "outputId": "2ca54804-ea5c-477f-a6a9-2ed731b9b665"
      },
      "source": [
        "print(len(index))"
      ],
      "execution_count": 2,
      "outputs": [
        {
          "output_type": "stream",
          "text": [
            "11200\n"
          ],
          "name": "stdout"
        }
      ]
    },
    {
      "cell_type": "markdown",
      "metadata": {
        "id": "FdWN-kp2u7ca"
      },
      "source": [
        "모든 사람에 대하여 파일 경로를 추출하여 filepath에 저장"
      ]
    },
    {
      "cell_type": "code",
      "metadata": {
        "id": "0ec9qEiWpfqA"
      },
      "source": [
        "rootpath = ['./drive/MyDrive/A_Complete', './drive/MyDrive/B_complete', './drive/MyDrive/C_Complete', './drive/MyDrive/D_Complete']\n",
        "filename = ['/A_', '/B_', '/A_', '/D_']\n",
        "\n",
        "filepath = []\n",
        "\n",
        "for i in range(4):\n",
        "  temp = rootpath[i] + filename[i]\n",
        "  for j in range(len(index)):\n",
        "    path = temp + str(index[j])\n",
        "    filepath.append(path)\n",
        "  #path[i].append"
      ],
      "execution_count": 5,
      "outputs": []
    },
    {
      "cell_type": "code",
      "metadata": {
        "colab": {
          "base_uri": "https://localhost:8080/"
        },
        "id": "lcKvTfWbto9S",
        "outputId": "6ce10df1-a45d-4f4b-dbab-6ef9e4f80586"
      },
      "source": [
        "len(filepath)"
      ],
      "execution_count": 6,
      "outputs": [
        {
          "output_type": "execute_result",
          "data": {
            "text/plain": [
              "44800"
            ]
          },
          "metadata": {
            "tags": []
          },
          "execution_count": 6
        }
      ]
    },
    {
      "cell_type": "code",
      "metadata": {
        "id": "qsomxXP1usad"
      },
      "source": [
        "print(filepath)"
      ],
      "execution_count": null,
      "outputs": []
    },
    {
      "cell_type": "markdown",
      "metadata": {
        "id": "6tzRCTOtutOd"
      },
      "source": [
        "아래로 매우 길게 나와 print(filepath)의 결과는 지웠다"
      ]
    }
  ]
}