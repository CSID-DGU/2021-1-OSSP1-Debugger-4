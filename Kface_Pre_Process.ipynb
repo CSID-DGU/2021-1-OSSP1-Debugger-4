{
  "nbformat": 4,
  "nbformat_minor": 0,
  "metadata": {
    "colab": {
      "name": "Kface_Pre_Process.ipynb",
      "provenance": [],
      "collapsed_sections": [],
      "mount_file_id": "14p_SEku-MKiqtY3sp760IrgvmOdQmB7W",
      "authorship_tag": "ABX9TyOuwmaM8NmaiHBIGbwpk3aO",
      "include_colab_link": true
    },
    "kernelspec": {
      "name": "python3",
      "display_name": "Python 3"
    },
    "language_info": {
      "name": "python"
    }
  },
  "cells": [
    {
      "cell_type": "markdown",
      "metadata": {
        "id": "view-in-github",
        "colab_type": "text"
      },
      "source": [
        "<a href=\"https://colab.research.google.com/github/CSID-DGU/2021-1-OSSP1-Debugger-4/blob/autoencoder/Kface_Pre_Process.ipynb\" target=\"_parent\"><img src=\"https://colab.research.google.com/assets/colab-badge.svg\" alt=\"Open In Colab\"/></a>"
      ]
    },
    {
      "cell_type": "code",
      "metadata": {
        "colab": {
          "base_uri": "https://localhost:8080/"
        },
        "id": "D8twHADaF06D",
        "outputId": "a863616a-4ae1-46cb-d575-2c7799bc1b24"
      },
      "source": [
        "from google.colab import drive\n",
        "drive.mount('/content/drive')"
      ],
      "execution_count": 1,
      "outputs": [
        {
          "output_type": "stream",
          "text": [
            "Drive already mounted at /content/drive; to attempt to forcibly remount, call drive.mount(\"/content/drive\", force_remount=True).\n"
          ],
          "name": "stdout"
        }
      ]
    },
    {
      "cell_type": "code",
      "metadata": {
        "colab": {
          "base_uri": "https://localhost:8080/",
          "height": 35
        },
        "id": "H0c2qtrJHE-Q",
        "outputId": "6da828ff-a559-4cbf-e16f-0cfad6f2c784"
      },
      "source": [
        "pwd"
      ],
      "execution_count": 2,
      "outputs": [
        {
          "output_type": "execute_result",
          "data": {
            "application/vnd.google.colaboratory.intrinsic+json": {
              "type": "string"
            },
            "text/plain": [
              "'/content'"
            ]
          },
          "metadata": {
            "tags": []
          },
          "execution_count": 2
        }
      ]
    },
    {
      "cell_type": "code",
      "metadata": {
        "id": "J9VqB5SQGrul"
      },
      "source": [
        "import zipfile\n",
        "import os"
      ],
      "execution_count": 3,
      "outputs": []
    },
    {
      "cell_type": "code",
      "metadata": {
        "colab": {
          "base_uri": "https://localhost:8080/"
        },
        "id": "unFPt4DOI5DB",
        "outputId": "17d76c3c-9395-4876-d8d5-d06d0a6404b2"
      },
      "source": [
        "def print_files_in_dir(root_dir, prefix):\n",
        "  zipfiles = []\n",
        "  files = os.listdir(root_dir)\n",
        "  for file in files:\n",
        "    path = os.path.join(root_dir, file)\n",
        "    zipfiles.append(prefix + path)\n",
        "    #print(prefix + path)\n",
        "  return zipfiles\n",
        "\n",
        "root_dir = './drive/MyDrive/K_face/1'\n",
        "zipfiles = print_files_in_dir(root_dir, \"\")\n",
        "\n",
        "for path in zipfiles:\n",
        "  print(path)"
      ],
      "execution_count": 41,
      "outputs": [
        {
          "output_type": "stream",
          "text": [
            "./drive/MyDrive/K_face/1/19071131.zip\n",
            "./drive/MyDrive/K_face/1/19062811.zip\n",
            "./drive/MyDrive/K_face/1/19070212.zip\n",
            "./drive/MyDrive/K_face/1/19070311.zip\n",
            "./drive/MyDrive/K_face/1/19070912.zip\n",
            "./drive/MyDrive/K_face/1/19071111.zip\n",
            "./drive/MyDrive/K_face/1/19071011.zip\n",
            "./drive/MyDrive/K_face/1/19070412.zip\n",
            "./drive/MyDrive/K_face/1/19070921.zip\n",
            "./drive/MyDrive/K_face/1/19062521.zip\n",
            "./drive/MyDrive/K_face/1/19071021.zip\n",
            "./drive/MyDrive/K_face/1/19070221.zip\n",
            "./drive/MyDrive/K_face/1/19062622.zip\n",
            "./drive/MyDrive/K_face/1/19070922.zip\n",
            "./drive/MyDrive/K_face/1/19062421.zip\n",
            "./drive/MyDrive/K_face/1/19062621.zip\n",
            "./drive/MyDrive/K_face/1/19071022.zip\n",
            "./drive/MyDrive/K_face/1/19071121.zip\n",
            "./drive/MyDrive/K_face/1/19062722.zip\n",
            "./drive/MyDrive/K_face/1/19070321.zip\n",
            "./drive/MyDrive/K_face/1/19070121.zip\n",
            "./drive/MyDrive/K_face/1/19070522.zip\n",
            "./drive/MyDrive/K_face/1/19070222.zip\n",
            "./drive/MyDrive/K_face/1/19071032.zip\n",
            "./drive/MyDrive/K_face/1/19070531.zip\n",
            "./drive/MyDrive/K_face/1/19062832.zip\n",
            "./drive/MyDrive/K_face/1/19062732.zip\n",
            "./drive/MyDrive/K_face/1/19062831.zip\n",
            "./drive/MyDrive/K_face/1/19070532.zip\n",
            "./drive/MyDrive/K_face/1/19062531.zip\n",
            "./drive/MyDrive/K_face/1/19071132.zip\n",
            "./drive/MyDrive/K_face/1/19062731.zip\n",
            "./drive/MyDrive/K_face/1/19070831.zip\n",
            "./drive/MyDrive/K_face/1/19070431.zip\n",
            "./drive/MyDrive/K_face/1/19070231.zip\n",
            "./drive/MyDrive/K_face/1/19070841.zip\n",
            "./drive/MyDrive/K_face/1/19062841.zip\n",
            "./drive/MyDrive/K_face/1/19062641.zip\n",
            "./drive/MyDrive/K_face/1/19062842.zip\n",
            "./drive/MyDrive/K_face/1/19070942.zip\n",
            "./drive/MyDrive/K_face/1/19070242.zip\n",
            "./drive/MyDrive/K_face/1/19070241.zip\n",
            "./drive/MyDrive/K_face/1/19062542.zip\n",
            "./drive/MyDrive/K_face/1/19071041.zip\n",
            "./drive/MyDrive/K_face/1/19062431.zip\n",
            "./drive/MyDrive/K_face/1/19070541.zip\n",
            "./drive/MyDrive/K_face/1/19070312.zip\n",
            "./drive/MyDrive/K_face/1/19072322.zip\n",
            "./drive/MyDrive/K_face/1/19070322.zip\n",
            "./drive/MyDrive/K_face/1/19070421.zip\n",
            "./drive/MyDrive/K_face/1/19070331.zip\n",
            "./drive/MyDrive/K_face/1/19070931.zip\n",
            "./drive/MyDrive/K_face/1/19070142.zip\n",
            "./drive/MyDrive/K_face/1/19070442.zip\n",
            "./drive/MyDrive/K_face/1/19071141.zip\n",
            "./drive/MyDrive/K_face/1/19071142.zip\n",
            "./drive/MyDrive/K_face/1/19071211.zip\n",
            "./drive/MyDrive/K_face/1/19071221.zip\n",
            "./drive/MyDrive/K_face/1/19071222.zip\n",
            "./drive/MyDrive/K_face/1/19071231.zip\n",
            "./drive/MyDrive/K_face/1/19071241.zip\n",
            "./drive/MyDrive/K_face/1/19071242.zip\n",
            "./drive/MyDrive/K_face/1/19071511.zip\n",
            "./drive/MyDrive/K_face/1/19071512.zip\n",
            "./drive/MyDrive/K_face/1/19071521.zip\n",
            "./drive/MyDrive/K_face/1/19071522.zip\n",
            "./drive/MyDrive/K_face/1/19071532.zip\n",
            "./drive/MyDrive/K_face/1/19071542.zip\n",
            "./drive/MyDrive/K_face/1/19071611.zip\n",
            "./drive/MyDrive/K_face/1/19071621.zip\n",
            "./drive/MyDrive/K_face/1/19071622.zip\n",
            "./drive/MyDrive/K_face/1/19071641.zip\n",
            "./drive/MyDrive/K_face/1/19071642.zip\n",
            "./drive/MyDrive/K_face/1/19071711.zip\n",
            "./drive/MyDrive/K_face/1/19071712.zip\n",
            "./drive/MyDrive/K_face/1/19071721.zip\n",
            "./drive/MyDrive/K_face/1/19071731.zip\n",
            "./drive/MyDrive/K_face/1/19071732.zip\n",
            "./drive/MyDrive/K_face/1/19071741.zip\n",
            "./drive/MyDrive/K_face/1/19071742.zip\n",
            "./drive/MyDrive/K_face/1/19071811.zip\n",
            "./drive/MyDrive/K_face/1/19071821.zip\n",
            "./drive/MyDrive/K_face/1/19071832.zip\n",
            "./drive/MyDrive/K_face/1/19071833.zip\n",
            "./drive/MyDrive/K_face/1/19071841.zip\n",
            "./drive/MyDrive/K_face/1/19071911.zip\n",
            "./drive/MyDrive/K_face/1/19071912.zip\n",
            "./drive/MyDrive/K_face/1/19071921.zip\n",
            "./drive/MyDrive/K_face/1/19071922.zip\n",
            "./drive/MyDrive/K_face/1/19071931.zip\n",
            "./drive/MyDrive/K_face/1/19072211.zip\n",
            "./drive/MyDrive/K_face/1/19072212.zip\n",
            "./drive/MyDrive/K_face/1/19072221.zip\n",
            "./drive/MyDrive/K_face/1/19072222.zip\n",
            "./drive/MyDrive/K_face/1/19072231.zip\n",
            "./drive/MyDrive/K_face/1/19072241.zip\n",
            "./drive/MyDrive/K_face/1/19072242.zip\n",
            "./drive/MyDrive/K_face/1/19072311.zip\n",
            "./drive/MyDrive/K_face/1/19072312.zip\n",
            "./drive/MyDrive/K_face/1/19072321.zip\n"
          ],
          "name": "stdout"
        }
      ]
    },
    {
      "cell_type": "code",
      "metadata": {
        "id": "aclZN3cgHhye"
      },
      "source": [
        "#zipfile.ZipFile('./drive/MyDrive/K_face/1/19062431.zip').extractall('./drive/MyDrive/ExtractedFile/19062431') #파일명, 압축 풀 경로\n",
        "for path in zipfiles:\n",
        "  zipfile.ZipFile(path).extractall('./drive/MyDrive/ExtractFile')"
      ],
      "execution_count": 23,
      "outputs": []
    },
    {
      "cell_type": "code",
      "metadata": {
        "id": "fiKdhn51Hpev"
      },
      "source": [
        "from os.path import basename\n",
        "\n",
        "new_zips = zipfile.ZipFile('./drive/MyDrive/dataset/A_001.zip', 'w')\n",
        "\n",
        "SList = ['S001', 'S002', 'S003']\n",
        "LList = ['L1', 'L2', 'L3', 'L4', 'L5', 'L6']\n",
        "EList = ['E01', 'E02']\n",
        "CList = ['C4.jpg', 'C5.jpg', 'C6.jpg', 'C7.jpg', 'C8.jpg', 'C9.jpg', 'C10.jpg',\n",
        "         'C15.jpg', 'C16.jpg', 'C17.jpg',\n",
        "         'C19.jpg', 'C20.jpg']\n",
        "\n",
        "rootpath = './drive/MyDrive/ExtractedFile/19062421'\n",
        "i = 0\n",
        "for s in SList:\n",
        "  sPath = rootpath + '/' + s\n",
        "  for l in LList:\n",
        "    lPath = sPath + '/' + l\n",
        "    for e in EList:\n",
        "      ePath = lPath + '/' + e\n",
        "      for c in CList:\n",
        "        cPath = ePath + '/' + c\n",
        "        new_zips.write(cPath, str(i) + '.jpg')\n",
        "        i = i + 1\n",
        "        #print(cPath)\n",
        "new_zips.close()"
      ],
      "execution_count": 40,
      "outputs": []
    },
    {
      "cell_type": "code",
      "metadata": {
        "id": "bD1avBXjQitX"
      },
      "source": [
        ""
      ],
      "execution_count": null,
      "outputs": []
    }
  ]
}