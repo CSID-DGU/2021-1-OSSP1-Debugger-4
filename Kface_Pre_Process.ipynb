{
  "nbformat": 4,
  "nbformat_minor": 0,
  "metadata": {
    "colab": {
      "name": "Kface_Pre_Process.ipynb",
      "provenance": [],
      "collapsed_sections": [],
      "mount_file_id": "14p_SEku-MKiqtY3sp760IrgvmOdQmB7W",
      "authorship_tag": "ABX9TyM4gCJ/WdMkY1iiCpm+LqZG",
      "include_colab_link": true
    },
    "kernelspec": {
      "name": "python3",
      "display_name": "Python 3"
    },
    "language_info": {
      "name": "python"
    }
  },
  "cells": [
    {
      "cell_type": "markdown",
      "metadata": {
        "id": "view-in-github",
        "colab_type": "text"
      },
      "source": [
        "<a href=\"https://colab.research.google.com/github/CSID-DGU/2021-1-OSSP1-Debugger-4/blob/autoencoder/Kface_Pre_Process.ipynb\" target=\"_parent\"><img src=\"https://colab.research.google.com/assets/colab-badge.svg\" alt=\"Open In Colab\"/></a>"
      ]
    },
    {
      "cell_type": "code",
      "metadata": {
        "colab": {
          "base_uri": "https://localhost:8080/"
        },
        "id": "D8twHADaF06D",
        "outputId": "a863616a-4ae1-46cb-d575-2c7799bc1b24"
      },
      "source": [
        "from google.colab import drive\n",
        "drive.mount('/content/drive')"
      ],
      "execution_count": 1,
      "outputs": [
        {
          "output_type": "stream",
          "text": [
            "Drive already mounted at /content/drive; to attempt to forcibly remount, call drive.mount(\"/content/drive\", force_remount=True).\n"
          ],
          "name": "stdout"
        }
      ]
    },
    {
      "cell_type": "code",
      "metadata": {
        "colab": {
          "base_uri": "https://localhost:8080/",
          "height": 35
        },
        "id": "H0c2qtrJHE-Q",
        "outputId": "6da828ff-a559-4cbf-e16f-0cfad6f2c784"
      },
      "source": [
        "pwd"
      ],
      "execution_count": 2,
      "outputs": [
        {
          "output_type": "execute_result",
          "data": {
            "application/vnd.google.colaboratory.intrinsic+json": {
              "type": "string"
            },
            "text/plain": [
              "'/content'"
            ]
          },
          "metadata": {
            "tags": []
          },
          "execution_count": 2
        }
      ]
    },
    {
      "cell_type": "code",
      "metadata": {
        "id": "J9VqB5SQGrul"
      },
      "source": [
        "import zipfile\n",
        "import os"
      ],
      "execution_count": 3,
      "outputs": []
    },
    {
      "cell_type": "code",
      "metadata": {
        "id": "unFPt4DOI5DB"
      },
      "source": [
        "def print_files_in_dir(root_dir, prefix):\n",
        "  zipfiles = []\n",
        "  files = os.listdir(root_dir)\n",
        "  for file in files:\n",
        "    path = os.path.join(root_dir, file)\n",
        "    zipfiles.append(prefix + path)\n",
        "    #print(prefix + path)\n",
        "  return zipfiles\n",
        "\n",
        "root_dir = './drive/MyDrive/K_face/1'\n",
        "zipfiles = print_files_in_dir(root_dir, \"\")\n",
        "\n",
        "for path in zipfiles:\n",
        "  print(path)"
      ],
      "execution_count": null,
      "outputs": []
    },
    {
      "cell_type": "markdown",
      "metadata": {
        "id": "EipUduF6IyW9"
      },
      "source": [
        "##압축해제"
      ]
    },
    {
      "cell_type": "code",
      "metadata": {
        "id": "aclZN3cgHhye"
      },
      "source": [
        "from os.path import basename\n",
        "\n",
        "#zipfile.ZipFile('./drive/MyDrive/K_face/1/19062431.zip').extractall('./drive/MyDrive/ExtractedFile/19062431') #파일명, 압축 풀 경로\n",
        "for path in zipfiles:\n",
        "  base = basename(path)\n",
        "  s = os.path.splitext(base)\n",
        "  newpath = './drive/MyDrive/ExtractedFile/' + s[0]\n",
        "  zipfile.ZipFile(path).extractall(newpath)"
      ],
      "execution_count": 55,
      "outputs": []
    },
    {
      "cell_type": "markdown",
      "metadata": {
        "id": "8WiA0IQBI1t3"
      },
      "source": [
        "##필요 데이터셋 재압축"
      ]
    },
    {
      "cell_type": "code",
      "metadata": {
        "id": "Or3TC0rqIhbH"
      },
      "source": [
        "#위의 작업이 끝나고 다시 path설정\n",
        "root_dir = './drive/MyDrive/ExtractedFile'\n",
        "filepath = print_files_in_dir(root_dir, \"\")\n",
        "\n",
        "for path in filepath:\n",
        "  print(path)"
      ],
      "execution_count": null,
      "outputs": []
    },
    {
      "cell_type": "code",
      "metadata": {
        "id": "fiKdhn51Hpev"
      },
      "source": [
        "new_zips = zipfile.ZipFile('./drive/MyDrive/dataset/1.zip', 'w')\n",
        "\n",
        "SList = ['S001', 'S002', 'S003']\n",
        "LList = ['L1', 'L2', 'L3', 'L4', 'L5', 'L6']\n",
        "EList = ['E01', 'E02']\n",
        "CList = ['C4.jpg', 'C5.jpg', 'C6.jpg', 'C7.jpg', 'C8.jpg', 'C9.jpg', 'C10.jpg',\n",
        "         'C15.jpg', 'C16.jpg', 'C17.jpg',\n",
        "         'C19.jpg', 'C20.jpg']\n",
        "\n",
        "i = 0\n",
        "cnt = 1\n",
        "for path in filepath:\n",
        "  rootpath = path\n",
        "  for s in SList:\n",
        "    sPath = rootpath + '/' + s\n",
        "    for l in LList:\n",
        "      lPath = sPath + '/' + l\n",
        "      for e in EList:\n",
        "        ePath = lPath + '/' + e\n",
        "        for c in CList:\n",
        "          cPath = ePath + '/' + c\n",
        "          new_zips.write(cPath, str(i) + '.jpg')\n",
        "          i = i + 1\n",
        "  print(\"seq : \" + str(cnt))\n",
        "  cnt = cnt + 1\n",
        "          #print(cPath)\n",
        "new_zips.close()"
      ],
      "execution_count": null,
      "outputs": []
    },
    {
      "cell_type": "markdown",
      "metadata": {
        "id": "bD1avBXjQitX"
      },
      "source": [
        "0~43199 까지의 이미지가 나오면 정상"
      ]
    }
  ]
}