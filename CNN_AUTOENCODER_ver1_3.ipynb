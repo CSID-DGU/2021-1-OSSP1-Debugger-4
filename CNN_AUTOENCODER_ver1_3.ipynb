{
  "nbformat": 4,
  "nbformat_minor": 0,
  "metadata": {
    "accelerator": "GPU",
    "colab": {
      "name": "CNN AUTOENCODER ver1.3",
      "provenance": [],
      "collapsed_sections": [],
      "machine_shape": "hm",
      "include_colab_link": true
    },
    "kernelspec": {
      "display_name": "Python 3",
      "name": "python3"
    },
    "language_info": {
      "name": "python"
    }
  },
  "cells": [
    {
      "cell_type": "markdown",
      "metadata": {
        "id": "view-in-github",
        "colab_type": "text"
      },
      "source": [
        "<a href=\"https://colab.research.google.com/github/CSID-DGU/2021-1-OSSP1-Debugger-4/blob/autoencoder/CNN_AUTOENCODER_ver1_3.ipynb\" target=\"_parent\"><img src=\"https://colab.research.google.com/assets/colab-badge.svg\" alt=\"Open In Colab\"/></a>"
      ]
    },
    {
      "cell_type": "markdown",
      "metadata": {
        "id": "nLiexoqXwocL"
      },
      "source": [
        "[![Open In Colab](https://colab.research.google.com/assets/colab-badge.svg)](https://colab.research.google.com/drive/1rsFeNH-ldl3-UCjRoEMUtuxPekRjTEgu?usp=sharing)"
      ]
    },
    {
      "cell_type": "code",
      "metadata": {
        "colab": {
          "base_uri": "https://localhost:8080/"
        },
        "id": "aWkE9Xv2mI4L",
        "outputId": "b4f31a63-126e-4933-b488-e2717a05852e"
      },
      "source": [
        "from google.colab import drive\n",
        "drive.mount('/content/drive')"
      ],
      "execution_count": 1,
      "outputs": [
        {
          "output_type": "stream",
          "text": [
            "Mounted at /content/drive\n"
          ],
          "name": "stdout"
        }
      ]
    },
    {
      "cell_type": "code",
      "metadata": {
        "id": "m5vK9E6ZSnB-"
      },
      "source": [
        "\n",
        "# 라이브러리 설정\n",
        "import pandas as pd\n",
        "import numpy as np\n",
        "import tensorflow as tf\n",
        "import matplotlib.pyplot as plt\n",
        "import random\n",
        "import cv2\n",
        "import gc\n",
        "import glob\n",
        "from tensorflow.keras.layers import Reshape\n",
        "\n",
        "# 랜덤 시드 고정\n",
        "SEED=2021\n",
        "random.seed(SEED)\n",
        "np.random.seed(SEED)\n",
        "tf.random.set_seed(SEED)\n"
      ],
      "execution_count": 9,
      "outputs": []
    },
    {
      "cell_type": "code",
      "metadata": {
        "id": "MmohyRl4wx05"
      },
      "source": [
        "#CelebA 압축해제\n",
        "import zipfile\n",
        "zipfile.ZipFile('./drive/MyDrive/img_align_celeba.zip').extractall('./celeba')"
      ],
      "execution_count": 3,
      "outputs": []
    },
    {
      "cell_type": "code",
      "metadata": {
        "id": "C1XEH4wsk7kC",
        "colab": {
          "base_uri": "https://localhost:8080/"
        },
        "outputId": "666decb7-9ecc-4760-c747-cb5fe7e0d4f2"
      },
      "source": [
        "#CelebA train_data 불러오기\n",
        "imgs = glob.glob('./celeba/img_align_celeba/*.jpg')\n",
        "\n",
        "train_y = []\n",
        "for _ in range(0,100000):\n",
        "  if _%20000 == 0:\n",
        "    print(\"{} / 100000\".format(_))\n",
        "  img = cv2.imread(imgs[_])\n",
        "  img = cv2.resize(img,(64,64))\n",
        "  train_y.append(img.astype(\"float32\")/255.0)\n",
        "  del img\n",
        "\n",
        "Y = np.array(train_y)\n",
        "del train_y\n",
        "train_y=[]\n",
        "gc.collect()\n",
        "\n",
        "\n",
        "for _ in range(100000,200000):\n",
        "  if _%20000 == 0:\n",
        "    print(\"{} / 100000\".format(_))\n",
        "  img = cv2.imread(imgs[_])\n",
        "  img = cv2.resize(img,(64,64))\n",
        "  train_y.append(img.astype(\"float32\")/255.0)\n",
        "  del img\n",
        "\n",
        "Y = np.vstack((Y,train_y))\n",
        "del train_y\n",
        "train_y=[]\n",
        "gc.collect()\n",
        "print(Y.shape)\n"
      ],
      "execution_count": 4,
      "outputs": [
        {
          "output_type": "stream",
          "text": [
            "0 / 100000\n",
            "20000 / 100000\n",
            "40000 / 100000\n",
            "60000 / 100000\n",
            "80000 / 100000\n",
            "100000 / 100000\n",
            "120000 / 100000\n",
            "140000 / 100000\n",
            "160000 / 100000\n",
            "180000 / 100000\n"
          ],
          "name": "stdout"
        },
        {
          "output_type": "execute_result",
          "data": {
            "text/plain": [
              "0"
            ]
          },
          "metadata": {
            "tags": []
          },
          "execution_count": 4
        }
      ]
    },
    {
      "cell_type": "code",
      "metadata": {
        "colab": {
          "base_uri": "https://localhost:8080/"
        },
        "id": "F7sdwAlqoHqL",
        "outputId": "bade0dd5-0ca7-4bc2-dc87-d5ca79ad7cc9"
      },
      "source": [
        "#CelebA test_data 불러오기\n",
        "test_Y = []\n",
        "for _ in range(200000,202599):\n",
        "  if _%5000 == 0:\n",
        "    print(\"{} / 100000\".format(_))\n",
        "  img = cv2.imread(imgs[_])\n",
        "  img = cv2.resize(img,(64,64))\n",
        "  test_Y.append(img.astype(\"float32\")/255.0)\n",
        "  \n",
        "test_Y = np.array(test_Y)\n",
        "print(test_Y.shape)"
      ],
      "execution_count": 5,
      "outputs": [
        {
          "output_type": "stream",
          "text": [
            "(200000, 64, 64, 3)\n",
            "200000 / 100000\n",
            "(2599, 64, 64, 3)\n"
          ],
          "name": "stdout"
        }
      ]
    },
    {
      "cell_type": "code",
      "metadata": {
        "colab": {
          "base_uri": "https://localhost:8080/"
        },
        "id": "N3S6GAn1CEHu",
        "outputId": "44f10634-00e0-4a61-821e-e5904af993e2"
      },
      "source": [
        "#민수 데이터 불러오기\n",
        "minsu = glob.glob('./drive/MyDrive/videoimage3/*.png')\n",
        "test_minsu = []\n",
        "for _ in range(0,len(minsu)):\n",
        "  img = cv2.imread(minsu[_])\n",
        "  img = cv2.resize(img,(64,64))\n",
        "  test_minsu.append(img.astype(\"float32\")/255.0)\n",
        "  \n",
        "test_minsu = np.array(test_minsu)\n",
        "\n",
        "print(test_minsu.shape)"
      ],
      "execution_count": 18,
      "outputs": [
        {
          "output_type": "stream",
          "text": [
            "(1912, 64, 64, 3)\n"
          ],
          "name": "stdout"
        }
      ]
    },
    {
      "cell_type": "code",
      "metadata": {
        "colab": {
          "base_uri": "https://localhost:8080/"
        },
        "id": "ualSjhKYJzDY",
        "outputId": "22949164-034a-4a2a-a93b-cef571cfb03d"
      },
      "source": [
        "real_test = glob.glob('./*.jpg')\n",
        "real = []\n",
        "\n",
        "img = cv2.imread(real_test[0])\n",
        "img = cv2.resize(img,(64,64))\n",
        "real.append(img.astype(\"float32\")/255.0)\n",
        "\n",
        "img = cv2.imread(real_test[1])\n",
        "img = cv2.resize(img,(64,64))\n",
        "real.append(img.astype(\"float32\")/255.0)\n",
        "  \n",
        "real = np.array(real)\n",
        "\n",
        "print(real.shape)"
      ],
      "execution_count": 34,
      "outputs": [
        {
          "output_type": "stream",
          "text": [
            "(1, 64, 64, 3)\n"
          ],
          "name": "stdout"
        }
      ]
    },
    {
      "cell_type": "code",
      "metadata": {
        "colab": {
          "base_uri": "https://localhost:8080/"
        },
        "id": "FdYqVLT6SuTJ",
        "outputId": "c83233e0-3057-431b-d093-9fcc62566ca3"
      },
      "source": [
        "# 오토인코더 모델 정의\n",
        "def Autoencoder():\n",
        "\n",
        "  X = tf.keras.layers.Input(shape=[64,64,3])\n",
        "\n",
        "  #Encoder\n",
        "  H = tf.keras.layers.Conv2D(32,(4,4),(2,2),activation='relu',padding='same')(X)\n",
        "  H = tf.keras.layers.Conv2D(32*2,(4,4), (2,2),activation='relu',padding='same')(H)\n",
        "  H = tf.keras.layers.Conv2D(32*4, (4,4),(2,2),activation='relu',padding='same')(H)\n",
        "  H = tf.keras.layers.Conv2D(32*8, (4,4),(2,2),activation='relu',padding='same')(H)\n",
        "\n",
        "\n",
        "  pool_tmp = H.shape.as_list()\n",
        "  pool_tmp=pool_tmp[1:]\n",
        "  \n",
        "\n",
        "  #Fully-Connected\n",
        "  H = tf.keras.layers.Flatten()(H)\n",
        "  flatten_tmp=H.shape.as_list()\n",
        "  flatten_tmp=flatten_tmp[1]\n",
        "  H = tf.keras.layers.Dense(300,activation='relu')(H)\n",
        "  H = tf.keras.layers.Dense(flatten_tmp,activation='relu')(H)\n",
        "  H = Reshape(pool_tmp)(H)\n",
        "\n",
        "\n",
        "  #Decoder\n",
        "  H = tf.keras.layers.Conv2DTranspose(32*4,(2,2),strides=(2,2),padding='same',activation='relu')(H)\n",
        "  H = tf.keras.layers.Conv2DTranspose(32*2,(2,2),strides=(2,2),padding='same',activation='relu')(H)\n",
        "  H = tf.keras.layers.Conv2DTranspose(32,(2,2),strides=(2,2),padding='same',activation='relu')(H)\n",
        "  H = tf.keras.layers.Conv2DTranspose(3,(2,2),strides=(2,2),padding='same',activation='sigmoid')(H)\n",
        "\n",
        "  model = tf.keras.models.Model(X,H)\n",
        "  model.compile(optimizer='adam',loss='mean_squared_error', metrics=['acc'])\n",
        "\n",
        "  return model\n",
        "\n",
        "ae_model = Autoencoder()\n",
        "ae_model.summary()"
      ],
      "execution_count": 19,
      "outputs": [
        {
          "output_type": "stream",
          "text": [
            "Model: \"model\"\n",
            "_________________________________________________________________\n",
            "Layer (type)                 Output Shape              Param #   \n",
            "=================================================================\n",
            "input_1 (InputLayer)         [(None, 64, 64, 3)]       0         \n",
            "_________________________________________________________________\n",
            "conv2d (Conv2D)              (None, 32, 32, 32)        1568      \n",
            "_________________________________________________________________\n",
            "conv2d_1 (Conv2D)            (None, 16, 16, 64)        32832     \n",
            "_________________________________________________________________\n",
            "conv2d_2 (Conv2D)            (None, 8, 8, 128)         131200    \n",
            "_________________________________________________________________\n",
            "conv2d_3 (Conv2D)            (None, 4, 4, 256)         524544    \n",
            "_________________________________________________________________\n",
            "flatten (Flatten)            (None, 4096)              0         \n",
            "_________________________________________________________________\n",
            "dense (Dense)                (None, 300)               1229100   \n",
            "_________________________________________________________________\n",
            "dense_1 (Dense)              (None, 4096)              1232896   \n",
            "_________________________________________________________________\n",
            "reshape (Reshape)            (None, 4, 4, 256)         0         \n",
            "_________________________________________________________________\n",
            "conv2d_transpose (Conv2DTran (None, 8, 8, 128)         131200    \n",
            "_________________________________________________________________\n",
            "conv2d_transpose_1 (Conv2DTr (None, 16, 16, 64)        32832     \n",
            "_________________________________________________________________\n",
            "conv2d_transpose_2 (Conv2DTr (None, 32, 32, 32)        8224      \n",
            "_________________________________________________________________\n",
            "conv2d_transpose_3 (Conv2DTr (None, 64, 64, 3)         387       \n",
            "=================================================================\n",
            "Total params: 3,324,783\n",
            "Trainable params: 3,324,783\n",
            "Non-trainable params: 0\n",
            "_________________________________________________________________\n"
          ],
          "name": "stdout"
        }
      ]
    },
    {
      "cell_type": "code",
      "metadata": {
        "colab": {
          "base_uri": "https://localhost:8080/"
        },
        "id": "lntCq4_bd7ak",
        "outputId": "98d641e1-5272-4552-e0f9-5e1c97a6b7cd"
      },
      "source": [
        "for layers in (ae_model.layers):\n",
        "    print(layers)"
      ],
      "execution_count": 59,
      "outputs": [
        {
          "output_type": "stream",
          "text": [
            "<tensorflow.python.keras.engine.input_layer.InputLayer object at 0x7f0f7dc8a8d0>\n",
            "<tensorflow.python.keras.layers.convolutional.Conv2D object at 0x7f0f81d39f10>\n",
            "<tensorflow.python.keras.layers.convolutional.Conv2D object at 0x7f0f7de37890>\n",
            "<tensorflow.python.keras.layers.convolutional.Conv2D object at 0x7f0f7db6dc90>\n",
            "<tensorflow.python.keras.layers.convolutional.Conv2D object at 0x7f0f7db79110>\n",
            "<tensorflow.python.keras.layers.core.Flatten object at 0x7f0f7db79990>\n",
            "<tensorflow.python.keras.layers.core.Dense object at 0x7f0f7db94f10>\n",
            "<tensorflow.python.keras.layers.core.Dense object at 0x7f0f83ed7e50>\n",
            "<tensorflow.python.keras.layers.core.Reshape object at 0x7f0f7db68810>\n",
            "<tensorflow.python.keras.layers.convolutional.Conv2DTranspose object at 0x7f0f7dc7b7d0>\n",
            "<tensorflow.python.keras.layers.convolutional.Conv2DTranspose object at 0x7f0f7db68a90>\n",
            "<tensorflow.python.keras.layers.convolutional.Conv2DTranspose object at 0x7f0f7dbe0210>\n",
            "<tensorflow.python.keras.layers.convolutional.Conv2DTranspose object at 0x7f0f7dbc6d50>\n"
          ],
          "name": "stdout"
        }
      ]
    },
    {
      "cell_type": "code",
      "metadata": {
        "id": "W6Op2061Fhy9"
      },
      "source": [
        "#모델 체크포인트 설정\n",
        "checkpoint_path = 'checkpoint.ckpt'\n",
        "checkpoint = tf.keras.callbacks.ModelCheckpoint(filepath=checkpoint_path,\n",
        "                                                save_weights_only = True,\n",
        "                                                save_best_only = True,\n",
        "                                                moitor='val_accuracy',\n",
        "                                                verbose=1)"
      ],
      "execution_count": 21,
      "outputs": []
    },
    {
      "cell_type": "code",
      "metadata": {
        "colab": {
          "base_uri": "https://localhost:8080/"
        },
        "id": "iZ9IlcMWSvel",
        "outputId": "4ed8d8f7-0d49-4c1a-95fd-ded91b0f8de8"
      },
      "source": [
        "# 오토인코더 모델 학습\n",
        "history = ae_model.fit(Y,\n",
        "                      Y,\n",
        "                       batch_size=200,\n",
        "                       epochs=20,\n",
        "                       verbose=1,\n",
        "                       shuffle=True,\n",
        "                       callbacks=[checkpoint],\n",
        "                       validation_split=0.2)\n",
        ")\n",
        "                      \n"
      ],
      "execution_count": 22,
      "outputs": [
        {
          "output_type": "stream",
          "text": [
            "Epoch 1/20\n",
            "638/638 [==============================] - 20s 6ms/step - loss: 0.0252 - acc: 0.8324\n",
            "WARNING:tensorflow:Can save best model only with val_loss available, skipping.\n",
            "Epoch 2/20\n",
            "638/638 [==============================] - 4s 6ms/step - loss: 0.0055 - acc: 0.9109\n",
            "WARNING:tensorflow:Can save best model only with val_loss available, skipping.\n",
            "Epoch 3/20\n",
            "638/638 [==============================] - 4s 6ms/step - loss: 0.0035 - acc: 0.9239\n",
            "WARNING:tensorflow:Can save best model only with val_loss available, skipping.\n",
            "Epoch 4/20\n",
            "638/638 [==============================] - 3s 5ms/step - loss: 0.0028 - acc: 0.9318\n",
            "WARNING:tensorflow:Can save best model only with val_loss available, skipping.\n",
            "Epoch 5/20\n",
            "638/638 [==============================] - 3s 5ms/step - loss: 0.0024 - acc: 0.9360\n",
            "WARNING:tensorflow:Can save best model only with val_loss available, skipping.\n",
            "Epoch 6/20\n",
            "638/638 [==============================] - 4s 5ms/step - loss: 0.0022 - acc: 0.9386\n",
            "WARNING:tensorflow:Can save best model only with val_loss available, skipping.\n",
            "Epoch 7/20\n",
            "638/638 [==============================] - 3s 5ms/step - loss: 0.0020 - acc: 0.9411\n",
            "WARNING:tensorflow:Can save best model only with val_loss available, skipping.\n",
            "Epoch 8/20\n",
            "638/638 [==============================] - 3s 5ms/step - loss: 0.0020 - acc: 0.9428\n",
            "WARNING:tensorflow:Can save best model only with val_loss available, skipping.\n",
            "Epoch 9/20\n",
            "638/638 [==============================] - 4s 6ms/step - loss: 0.0018 - acc: 0.9441\n",
            "WARNING:tensorflow:Can save best model only with val_loss available, skipping.\n",
            "Epoch 10/20\n",
            "638/638 [==============================] - 4s 6ms/step - loss: 0.0017 - acc: 0.9441\n",
            "WARNING:tensorflow:Can save best model only with val_loss available, skipping.\n",
            "Epoch 11/20\n",
            "638/638 [==============================] - 4s 5ms/step - loss: 0.0015 - acc: 0.9460\n",
            "WARNING:tensorflow:Can save best model only with val_loss available, skipping.\n",
            "Epoch 12/20\n",
            "638/638 [==============================] - 4s 6ms/step - loss: 0.0015 - acc: 0.9458\n",
            "WARNING:tensorflow:Can save best model only with val_loss available, skipping.\n",
            "Epoch 13/20\n",
            "638/638 [==============================] - 4s 5ms/step - loss: 0.0014 - acc: 0.9470\n",
            "WARNING:tensorflow:Can save best model only with val_loss available, skipping.\n",
            "Epoch 14/20\n",
            "638/638 [==============================] - 4s 6ms/step - loss: 0.0013 - acc: 0.9470\n",
            "WARNING:tensorflow:Can save best model only with val_loss available, skipping.\n",
            "Epoch 15/20\n",
            "638/638 [==============================] - 4s 5ms/step - loss: 0.0013 - acc: 0.9470\n",
            "WARNING:tensorflow:Can save best model only with val_loss available, skipping.\n",
            "Epoch 16/20\n",
            "638/638 [==============================] - 4s 6ms/step - loss: 0.0013 - acc: 0.9479\n",
            "WARNING:tensorflow:Can save best model only with val_loss available, skipping.\n",
            "Epoch 17/20\n",
            "638/638 [==============================] - 4s 6ms/step - loss: 0.0013 - acc: 0.9488\n",
            "WARNING:tensorflow:Can save best model only with val_loss available, skipping.\n",
            "Epoch 18/20\n",
            "638/638 [==============================] - 4s 6ms/step - loss: 0.0013 - acc: 0.9483\n",
            "WARNING:tensorflow:Can save best model only with val_loss available, skipping.\n",
            "Epoch 19/20\n",
            "638/638 [==============================] - 3s 5ms/step - loss: 0.0012 - acc: 0.9490\n",
            "WARNING:tensorflow:Can save best model only with val_loss available, skipping.\n",
            "Epoch 20/20\n",
            "638/638 [==============================] - 4s 5ms/step - loss: 0.0012 - acc: 0.9496\n",
            "WARNING:tensorflow:Can save best model only with val_loss available, skipping.\n"
          ],
          "name": "stdout"
        }
      ]
    },
    {
      "cell_type": "code",
      "metadata": {
        "colab": {
          "base_uri": "https://localhost:8080/"
        },
        "id": "8FteEqrZRSvk",
        "outputId": "f481989b-a7db-4773-d61a-847e6c478132"
      },
      "source": [
        "ae_images = ae_model.predict(test_Y)\n",
        "ae_images.shape"
      ],
      "execution_count": 62,
      "outputs": [
        {
          "output_type": "execute_result",
          "data": {
            "text/plain": [
              "(2599, 64, 64, 3)"
            ]
          },
          "metadata": {
            "tags": []
          },
          "execution_count": 62
        }
      ]
    },
    {
      "cell_type": "code",
      "metadata": {
        "colab": {
          "base_uri": "https://localhost:8080/"
        },
        "id": "JtlPU0eDDLyg",
        "outputId": "cd17ee8c-e486-41f2-a3eb-02ed581990e5"
      },
      "source": [
        "ae_images = ae_model.predict(test_minsu)\n",
        "ae_images.shape"
      ],
      "execution_count": 23,
      "outputs": [
        {
          "output_type": "execute_result",
          "data": {
            "text/plain": [
              "(1912, 64, 64, 3)"
            ]
          },
          "metadata": {
            "tags": []
          },
          "execution_count": 23
        }
      ]
    },
    {
      "cell_type": "code",
      "metadata": {
        "colab": {
          "base_uri": "https://localhost:8080/"
        },
        "id": "jTSMQ0RtKUA1",
        "outputId": "a74d065f-b933-4ae3-b8e1-28e98d20a666"
      },
      "source": [
        "ae_images = ae_model.predict(real)\n",
        "ae_images.shape"
      ],
      "execution_count": 35,
      "outputs": [
        {
          "output_type": "execute_result",
          "data": {
            "text/plain": [
              "(1, 64, 64, 3)"
            ]
          },
          "metadata": {
            "tags": []
          },
          "execution_count": 35
        }
      ]
    },
    {
      "cell_type": "code",
      "metadata": {
        "colab": {
          "base_uri": "https://localhost:8080/",
          "height": 379
        },
        "id": "b56sspxOSxJA",
        "outputId": "919e45f2-65f2-478c-d4a1-ef97255be4a2"
      },
      "source": [
        "\n",
        "num = 10 \n",
        "plt.figure(figsize=(20,8))\n",
        "for i in range(10):\n",
        "    # 원본 이미지\n",
        "    ax = plt.subplot(2, num, i+1)\n",
        "    plt.imshow(cv2.cvtColor(test_Y[i], cv2.COLOR_BGR2RGB).reshape((64,64,3)))\n",
        "    plt.title(\"Original %s\" % str(i))\n",
        "    plt.axis('off')\n",
        "    \n",
        "    # 복원 이미지\n",
        "    ax = plt.subplot(2, num, i+num+1)\n",
        "    plt.imshow(cv2.cvtColor(ae_images[i], cv2.COLOR_BGR2RGB).reshape((64,64,3)))\n",
        "    plt.title(\"Auto-encoded %s\" % str(i))\n",
        "    plt.axis('off')\n",
        "    \n",
        "plt.show()"
      ],
      "execution_count": 37,
      "outputs": [
        {
          "output_type": "display_data",
          "data": {
            "image/png": "[encoded data removed]",
            "text/plain": [
              "<Figure size 1440x576 with 2 Axes>"
            ]
          },
          "metadata": {
            "tags": [],
            "needs_background": "light"
          }
        }
      ]
    },
    {
      "cell_type": "code",
      "metadata": {
        "colab": {
          "base_uri": "https://localhost:8080/",
          "height": 572
        },
        "id": "HmmvXkjwJDYn",
        "outputId": "89ffd3a0-1e20-4892-b87d-2691a77635e7"
      },
      "source": [
        "plt.figure(figsize=(12,9))\n",
        "plt.plot(np.arange(1,21), history.history['loss'])\n",
        "#plt.plot(np.arange(1,21), history.history['val_loss'])\n",
        "plt.title('Loss / Val Loss', fontsize=20, color='red')\n",
        "plt.xlabel('Epochs', color='red')\n",
        "plt.ylabel('Loss',color='red')\n",
        "plt.legend(['Loss', 'val_loss'], fontsize=15)\n",
        "plt.show()"
      ],
      "execution_count": 29,
      "outputs": [
        {
          "output_type": "display_data",
          "data": {
            "image/png": "[encoded data removed]",
            "text/plain": [
              "<Figure size 864x648 with 1 Axes>"
            ]
          },
          "metadata": {
            "tags": [],
            "needs_background": "light"
          }
        }
      ]
    },
    {
      "cell_type": "code",
      "metadata": {
        "id": "t6TgYKdHJLms"
      },
      "source": [
        ""
      ],
      "execution_count": null,
      "outputs": []
    }
  ]
}