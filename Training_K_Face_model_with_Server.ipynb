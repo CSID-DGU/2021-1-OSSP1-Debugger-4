{
  "nbformat": 4,
  "nbformat_minor": 5,
  "metadata": {
    "kernelspec": {
      "display_name": "Python 3",
      "language": "python",
      "name": "python3"
    },
    "language_info": {
      "codemirror_mode": {
        "name": "ipython",
        "version": 3
      },
      "file_extension": ".py",
      "mimetype": "text/x-python",
      "name": "python",
      "nbconvert_exporter": "python",
      "pygments_lexer": "ipython3",
      "version": "3.7.10"
    },
    "colab": {
      "name": "Training_K_Face_model_with_Server.ipynb",
      "provenance": [],
      "include_colab_link": true
    }
  },
  "cells": [
    {
      "cell_type": "markdown",
      "metadata": {
        "id": "view-in-github",
        "colab_type": "text"
      },
      "source": [
        "<a href=\"https://colab.research.google.com/github/CSID-DGU/2021-1-OSSP1-Debugger-4/blob/autoencoder/Training_K_Face_model_with_Server.ipynb\" target=\"_parent\"><img src=\"https://colab.research.google.com/assets/colab-badge.svg\" alt=\"Open In Colab\"/></a>"
      ]
    },
    {
      "cell_type": "code",
      "metadata": {
        "id": "0af9b8f4"
      },
      "source": [
        "# 라이브러리 설정\n",
        "import numpy as np\n",
        "import tensorflow as tf\n",
        "import matplotlib.pyplot as plt\n",
        "import random\n",
        "import cv2\n",
        "import gc\n",
        "import glob\n",
        "from tensorflow.keras.layers import Reshape\n",
        "from keras.models import load_model\n",
        "import keras\n",
        "\n",
        "# 랜덤 시드 고정\n",
        "SEED=2021\n",
        "random.seed(SEED)\n",
        "np.random.seed(SEED)\n",
        "tf.random.set_seed(SEED)"
      ],
      "id": "0af9b8f4",
      "execution_count": null,
      "outputs": []
    },
    {
      "cell_type": "code",
      "metadata": {
        "id": "d536903f"
      },
      "source": [
        "import random\n",
        "load_y=np.load('../Upscaling/Dataset_output/NON-WEAR_dataset.npz')  #이미지 데이터가 저장된 NPZ 로드하기.\n",
        "Y_1 =load_y['arr_0']\n",
        "load_y.close()\n",
        "#np.random.shuffle(Y_1)\n",
        "\n",
        "  \n",
        "Y_test = Y_1[-1000:] \n",
        "Y_1 = Y_1[:-1000]\n",
        "\n",
        "del load_y\n",
        "print(Y_1.shape)\n",
        "gc.collect()"
      ],
      "id": "d536903f",
      "execution_count": null,
      "outputs": []
    },
    {
      "cell_type": "code",
      "metadata": {
        "id": "f1e6756a",
        "outputId": "75861616-ebfa-4cfb-b579-52bf976849b1"
      },
      "source": [
        "gpus = tf.config.experimental.list_physical_devices('GPU')\n",
        "if gpus:\n",
        "  try:\n",
        "    # Currently, memory growth needs to be the same across GPUs\n",
        "    for gpu in gpus:\n",
        "      tf.config.experimental.set_memory_growth(gpu, True)\n",
        "    logical_gpus = tf.config.experimental.list_logical_devices('GPU')\n",
        "    print(len(gpus), \"Physical GPUs,\", len(logical_gpus), \"Logical GPUs\")\n",
        "  except RuntimeError as e:\n",
        "    # Memory growth must be set before GPUs have been initialized\n",
        "    print(e)\n",
        "strategy = tf.distribute.MirroredStrategy(devices=[\"/gpu:0\",\"/gpu:1\",\"/gpu:3\",\"/gpu:4\",\"/gpu:5\",\"/gpu:6\",\"/gpu:7\",\"/gpu:2\"])"
      ],
      "id": "f1e6756a",
      "execution_count": null,
      "outputs": [
        {
          "output_type": "stream",
          "text": [
            "8 Physical GPUs, 8 Logical GPUs\n",
            "INFO:tensorflow:Using MirroredStrategy with devices ('/job:localhost/replica:0/task:0/device:GPU:0', '/job:localhost/replica:0/task:0/device:GPU:1', '/job:localhost/replica:0/task:0/device:GPU:3', '/job:localhost/replica:0/task:0/device:GPU:4', '/job:localhost/replica:0/task:0/device:GPU:5', '/job:localhost/replica:0/task:0/device:GPU:6', '/job:localhost/replica:0/task:0/device:GPU:7', '/job:localhost/replica:0/task:0/device:GPU:2')\n"
          ],
          "name": "stdout"
        }
      ]
    },
    {
      "cell_type": "code",
      "metadata": {
        "id": "66272c18",
        "outputId": "8f678d44-b5aa-4cfa-be6d-a2f98aa48585"
      },
      "source": [
        "\n",
        "# 오토인코더 모델 정의\n",
        "def Autoencoder():\n",
        "  \n",
        "\n",
        "  with strategy.scope():\n",
        "      X = tf.keras.layers.Input(shape=[800,800,3])\n",
        "\n",
        "  #Encoder (Convolution layer 4겹)\n",
        "      H = tf.keras.layers.Conv2D(4,(4,4),(2,2),activation='relu',padding='same')(X)\n",
        "      H = tf.keras.layers.Conv2D(4*2,(4,4), (2,2),activation='relu',padding='same')(H)\n",
        "      H = tf.keras.layers.Conv2D(4*4, (4,4),(2,2),activation='relu',padding='same')(H)\n",
        "      H = tf.keras.layers.Conv2D(4*8, (4,4),(2,2),activation='relu',padding='same')(H)\n",
        "      H = tf.keras.layers.Conv2D(4*16, (4,4),(2,2),activation='relu',padding='same')(H)\n",
        "      H = tf.keras.layers.Conv2D(4*32, (4,4),(2,2),activation='relu',padding='same')(H)\n",
        "\n",
        " \n",
        "\n",
        "      pool_tmp = H.shape.as_list()\n",
        "      pool_tmp=pool_tmp[1:]\n",
        "  \n",
        "  #Fully-Connected\n",
        "      H = tf.keras.layers.Flatten()(H)\n",
        "      flatten_tmp=H.shape.as_list()\n",
        "      flatten_tmp=flatten_tmp[1]\n",
        " \n",
        "      H = tf.keras.layers.Dense(10000,activation='relu')(H)\n",
        "      H = tf.keras.layers.Dense(flatten_tmp,activation='relu')(H)\n",
        "      H = Reshape(pool_tmp)(H)\n",
        "\n",
        "\n",
        "  #Decoder\n",
        "\n",
        "      H = tf.keras.layers.Conv2DTranspose(4*16,(2,2),strides=(2,2),padding='same',activation='relu')(H)\n",
        "      H = tf.keras.layers.Conv2DTranspose(4*8,(2,2),strides=(2,2),padding='same',activation='relu')(H)\n",
        "      H = tf.keras.layers.Conv2DTranspose(4*4,(2,2),strides=(2,2),padding='same',activation='relu')(H)\n",
        "      H = tf.keras.layers.Conv2DTranspose(4*2,(2,2),strides=(2,2),padding='same',activation='relu')(H)\n",
        "      H = tf.keras.layers.Conv2DTranspose(4,(2,2),strides=(2,2),padding='same',activation='relu')(H)\n",
        "      H = tf.keras.layers.Conv2DTranspose(3,(2,2),strides=(2,2),padding='same',activation='relu')(H)\n",
        "  \n",
        "\n",
        "  \n",
        "  \n",
        "      model = tf.keras.models.Model(inputs=X, outputs=H)\n",
        "      model.compile(optimizer=keras.optimizers.Adam(0.01*8),loss='mean_squared_logarithmic_error', metrics=['acc']) #MSLE Loss Funciton 적용\n",
        "      return model\n",
        "\n",
        "ae_model = Autoencoder()\n",
        "ae_model.summary()\n",
        "#tf.compat.v1.disable_eager_execution()\n",
        "\n"
      ],
      "id": "66272c18",
      "execution_count": null,
      "outputs": [
        {
          "output_type": "stream",
          "text": [
            "INFO:tensorflow:Reduce to /job:localhost/replica:0/task:0/device:CPU:0 then broadcast to ('/job:localhost/replica:0/task:0/device:CPU:0',).\n",
            "INFO:tensorflow:Reduce to /job:localhost/replica:0/task:0/device:CPU:0 then broadcast to ('/job:localhost/replica:0/task:0/device:CPU:0',).\n",
            "INFO:tensorflow:Reduce to /job:localhost/replica:0/task:0/device:CPU:0 then broadcast to ('/job:localhost/replica:0/task:0/device:CPU:0',).\n",
            "INFO:tensorflow:Reduce to /job:localhost/replica:0/task:0/device:CPU:0 then broadcast to ('/job:localhost/replica:0/task:0/device:CPU:0',).\n",
            "Model: \"model\"\n",
            "_________________________________________________________________\n",
            "Layer (type)                 Output Shape              Param #   \n",
            "=================================================================\n",
            "input_1 (InputLayer)         [(None, 800, 800, 3)]     0         \n",
            "_________________________________________________________________\n",
            "conv2d (Conv2D)              (None, 400, 400, 4)       196       \n",
            "_________________________________________________________________\n",
            "conv2d_1 (Conv2D)            (None, 200, 200, 8)       520       \n",
            "_________________________________________________________________\n",
            "conv2d_2 (Conv2D)            (None, 100, 100, 16)      2064      \n",
            "_________________________________________________________________\n",
            "conv2d_3 (Conv2D)            (None, 50, 50, 32)        8224      \n",
            "_________________________________________________________________\n",
            "conv2d_4 (Conv2D)            (None, 25, 25, 64)        32832     \n",
            "_________________________________________________________________\n",
            "conv2d_5 (Conv2D)            (None, 13, 13, 128)       131200    \n",
            "_________________________________________________________________\n",
            "flatten (Flatten)            (None, 21632)             0         \n",
            "_________________________________________________________________\n",
            "dense (Dense)                (None, 10000)             216330000 \n",
            "_________________________________________________________________\n",
            "dense_1 (Dense)              (None, 21632)             216341632 \n",
            "_________________________________________________________________\n",
            "reshape (Reshape)            (None, 13, 13, 128)       0         \n",
            "_________________________________________________________________\n",
            "conv2d_transpose (Conv2DTran (None, 26, 26, 64)        32832     \n",
            "_________________________________________________________________\n",
            "conv2d_transpose_1 (Conv2DTr (None, 52, 52, 32)        8224      \n",
            "_________________________________________________________________\n",
            "conv2d_transpose_2 (Conv2DTr (None, 104, 104, 16)      2064      \n",
            "_________________________________________________________________\n",
            "conv2d_transpose_3 (Conv2DTr (None, 208, 208, 8)       520       \n",
            "_________________________________________________________________\n",
            "conv2d_transpose_4 (Conv2DTr (None, 416, 416, 4)       132       \n",
            "_________________________________________________________________\n",
            "conv2d_transpose_5 (Conv2DTr (None, 832, 832, 3)       51        \n",
            "=================================================================\n",
            "Total params: 432,890,491\n",
            "Trainable params: 432,890,491\n",
            "Non-trainable params: 0\n",
            "_________________________________________________________________\n"
          ],
          "name": "stdout"
        }
      ]
    },
    {
      "cell_type": "code",
      "metadata": {
        "id": "97809d91"
      },
      "source": [
        "#모델 체크포인트 설정\n",
        "checkpoint_path = './check/checkpoint.ckpt'\n",
        "checkpoint = tf.keras.callbacks.ModelCheckpoint(filepath=checkpoint_path,\n",
        "                                                save_weights_only = True,\n",
        "                                                save_best_only = True,\n",
        "                                                monitor='val_acc',\n",
        "                                                verbose=1)"
      ],
      "id": "97809d91",
      "execution_count": null,
      "outputs": []
    },
    {
      "cell_type": "code",
      "metadata": {
        "id": "4c923810"
      },
      "source": [
        "\n",
        "history = ae_model.fit(Y_1,\n",
        "                       Y_1,\n",
        "                       batch_size=512, #한번에 학습할 데이터 Batch_size\n",
        "                       epochs=200,      #에포크 설정\n",
        "                       verbose=1,      #학습과정 시각화     \n",
        "                       shuffle=True,\n",
        "                       callbacks=[checkpoint],  #모델 체크포인트 저장\n",
        "                       validation_split=0.2)         "
      ],
      "id": "4c923810",
      "execution_count": null,
      "outputs": []
    }
  ]
}