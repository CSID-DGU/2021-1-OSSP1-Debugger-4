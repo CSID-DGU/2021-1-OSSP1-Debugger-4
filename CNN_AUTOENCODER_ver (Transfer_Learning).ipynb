{
  "nbformat": 4,
  "nbformat_minor": 0,
  "metadata": {
    "colab": {
      "name": "CNN AUTOENCODER ver1.4",
      "provenance": [],
      "collapsed_sections": [],
      "toc_visible": true,
      "machine_shape": "hm",
      "include_colab_link": true
    },
    "kernelspec": {
      "display_name": "Python 3",
      "name": "python3"
    },
    "language_info": {
      "name": "python"
    },
    "accelerator": "GPU"
  },
  "cells": [
    {
      "cell_type": "markdown",
      "metadata": {
        "id": "view-in-github",
        "colab_type": "text"
      },
      "source": [
        "<a href=\"https://colab.research.google.com/github/CSID-DGU/2021-1-OSSP1-Debugger-4/blob/autoencoder/CNN_AUTOENCODER_ver%20(Transfer_Learning).ipynb\" target=\"_parent\"><img src=\"https://colab.research.google.com/assets/colab-badge.svg\" alt=\"Open In Colab\"/></a>"
      ]
    },
    {
      "cell_type": "markdown",
      "metadata": {
        "id": "nLiexoqXwocL"
      },
      "source": [
        "[![Open In Colab](https://colab.research.google.com/assets/colab-badge.svg)](https://colab.research.google.com/drive/1rsFeNH-ldl3-UCjRoEMUtuxPekRjTEgu?usp=sharing)"
      ]
    },
    {
      "cell_type": "markdown",
      "metadata": {
        "id": "TnX5_KLGY5hQ"
      },
      "source": [
        "# **Mounting Goolge Drive**"
      ]
    },
    {
      "cell_type": "code",
      "metadata": {
        "colab": {
          "base_uri": "https://localhost:8080/"
        },
        "id": "aWkE9Xv2mI4L",
        "outputId": "ed7c7370-d703-4fd0-937d-f9ee8b33248f"
      },
      "source": [
        "from google.colab import drive #구글드라이브 마운트\n",
        "drive.mount('/content/drive')"
      ],
      "execution_count": 1,
      "outputs": [
        {
          "output_type": "stream",
          "text": [
            "Mounted at /content/drive\n"
          ],
          "name": "stdout"
        }
      ]
    },
    {
      "cell_type": "code",
      "metadata": {
        "id": "m5vK9E6ZSnB-"
      },
      "source": [
        "# 라이브러리 설정\n",
        "import pandas as pd\n",
        "import numpy as np\n",
        "import tensorflow as tf\n",
        "import matplotlib.pyplot as plt\n",
        "import random\n",
        "import cv2\n",
        "import gc\n",
        "import glob\n",
        "from tensorflow.keras.layers import Reshape\n",
        "from keras.models import load_model\n",
        "\n",
        "# 랜덤 시드 고정\n",
        "SEED=2021\n",
        "random.seed(SEED)\n",
        "np.random.seed(SEED)\n",
        "tf.random.set_seed(SEED)\n"
      ],
      "execution_count": null,
      "outputs": []
    },
    {
      "cell_type": "markdown",
      "metadata": {
        "id": "TCXR7s2X9ZFi"
      },
      "source": [
        "# **안경 미착용 Dataset**"
      ]
    },
    {
      "cell_type": "code",
      "metadata": {
        "id": "6lORfmRX9WMR"
      },
      "source": [
        "import sys, os\n",
        "\n",
        "num = 0\n",
        "index = []\n",
        "for a in range(100):\n",
        "  for i in range(1): #S001만\n",
        "    #print('S' + str(i + 1))\n",
        "    for j in range(4): #L1-L4\n",
        "      #print('L' + str(j + 1))\n",
        "      for k in range(2): #E1-E2\n",
        "        #print('E' + str(k + 1))\n",
        "        for x in range(7): #C달고있는 12개 중 7개만\n",
        "          index.append(num)\n",
        "          num = num + 1\n",
        "        num = num + 5\n",
        "    num = num + 336  \n",
        "print(len(index))\n",
        "print(index)\n",
        "\n",
        "rootpath = ['./drive/MyDrive/A_Complete', './drive/MyDrive/B_complete', './drive/MyDrive/C_Complete', './drive/MyDrive/D_Complete']\n",
        "filename = ['/A_', '/B_', '/A_', '/D_']\n",
        "\n",
        "filepath = []\n",
        "\n",
        "for i in range(4):\n",
        "  temp = rootpath[i] + filename[i]\n",
        "  for j in range(len(index)):\n",
        "    path = temp + str(index[j]) + '.jpg'\n",
        "    filepath.append(path)\n",
        "\n",
        "print(len(filepath))"
      ],
      "execution_count": null,
      "outputs": []
    },
    {
      "cell_type": "code",
      "metadata": {
        "id": "6cjtegWN9rQk"
      },
      "source": [
        "!pip install pyturbojpeg  \n",
        "\n",
        "from turbojpeg import TurboJPEG\n",
        "jpeg = TurboJPEG()\n",
        "\n",
        "train_y = []\n",
        "train_test = []\n",
        "\n",
        "for _ in range(0,len(filepath)):\n",
        "  print(_)\n",
        "  try:\n",
        "    in_file = open(filepath[_], 'rb')\n",
        "    img = jpeg.decode(in_file.read(),0)\n",
        "    in_file.close()\n",
        "    train_y.append(img.astype(\"float32\")/255.0)\n",
        "  except:\n",
        "    print(filepath[_])\n",
        "\n",
        "\n",
        "Y_1 = np.array(train_y)\n",
        "\n",
        "np.savez_compressed(f'./drive/MyDrive/dataSet_Non', Y_1)\n",
        "print(Y_1.shape)\n",
        "\n",
        "\n",
        "\n"
      ],
      "execution_count": null,
      "outputs": []
    },
    {
      "cell_type": "markdown",
      "metadata": {
        "id": "idRE9qfj__Nw"
      },
      "source": [
        "# **안경 착용 Dataset** "
      ]
    },
    {
      "cell_type": "code",
      "metadata": {
        "id": "aLSkpo1XADPS"
      },
      "source": [
        "num = 0\n",
        "index = []\n",
        "for a in range(100):\n",
        "  for i in range(1): #S002만\n",
        "    #print('S' + str(i + 1))\n",
        "    for j in range(4): #L1-L4\n",
        "      #print('L' + str(j + 1))\n",
        "      for k in range(2): #E1-E2\n",
        "        #print('E' + str(k + 1))\n",
        "        for x in range(7): #C달고있는 12개 중 7개만\n",
        "          index.append(num)\n",
        "          num = num + 1\n",
        "        num = num + 5\n",
        "    num = num + 336\n",
        "\n",
        "index = [i+144 for i in index]\n",
        "print(len(index))\n",
        "print(index)\n",
        "\n",
        "rootpath = ['./drive/MyDrive/A_Complete', './drive/MyDrive/B_complete', './drive/MyDrive/C_Complete', './drive/MyDrive/D_Complete']\n",
        "filename = ['/A_', '/B_', '/A_', '/D_']\n",
        "\n",
        "filepath = []\n",
        "\n",
        "for i in range(4):\n",
        "  temp = rootpath[i] + filename[i]\n",
        "  for j in range(len(index)):\n",
        "    path = temp + str(index[j]) + '.jpg'\n",
        "    filepath.append(path)\n",
        "\n",
        "print(len(filepath))"
      ],
      "execution_count": null,
      "outputs": []
    },
    {
      "cell_type": "code",
      "metadata": {
        "id": "3IdsM73TAQ76"
      },
      "source": [
        "!pip install pyturbojpeg  \n",
        "\n",
        "from turbojpeg import TurboJPEG\n",
        "jpeg = TurboJPEG()\n",
        "\n",
        "train_y = []\n",
        "train_test = []\n",
        "\n",
        "for _ in range(0,len(filepath)):\n",
        "  if _%500 == 0:\n",
        "    print(_)\n",
        "  try:\n",
        "    in_file = open(filepath[_], 'rb')\n",
        "    img = jpeg.decode(in_file.read(),0)\n",
        "    in_file.close()\n",
        "    train_y.append(img.astype(\"float32\")/255.0)\n",
        "  except:\n",
        "    print(filepath[_])\n",
        "\n",
        "\n",
        "Y_1 = np.array(train_y)\n",
        "\n",
        "np.savez_compressed(f'./drive/MyDrive/dataSet_glasses', Y_1)\n",
        "print(Y_1.shape)\n"
      ],
      "execution_count": null,
      "outputs": []
    },
    {
      "cell_type": "markdown",
      "metadata": {
        "id": "7p0vPaeeUh9Z"
      },
      "source": [
        "# **NPZ 데이터 Load 후 Y_1에 저장**"
      ]
    },
    {
      "cell_type": "code",
      "metadata": {
        "colab": {
          "base_uri": "https://localhost:8080/"
        },
        "id": "dbg3bOlWYmCH",
        "outputId": "4427de8b-74f7-4a2e-f988-7fc4b25e7520"
      },
      "source": [
        "import random\n",
        "load_y=np.load('./drive/MyDrive/dataSet_Non.npz')  #이미지 데이터가 저장된 NPZ 로드하기.\n",
        "Y_1 =load_y['arr_0']\n",
        "load_y.close()\n",
        "np.random.shuffle(Y_1)\n",
        "\n",
        "Y_val = Y_1[-2100:-100]    \n",
        "Y_test = Y_1[-100:] \n",
        "Y_1 = Y_1[:-2100]\n",
        "\n",
        "del load_y\n",
        "print(Y_1.shape)\n",
        "gc.collect()"
      ],
      "execution_count": null,
      "outputs": [
        {
          "output_type": "stream",
          "text": [
            "(19920, 128, 128, 3)\n"
          ],
          "name": "stdout"
        },
        {
          "output_type": "execute_result",
          "data": {
            "text/plain": [
              "689"
            ]
          },
          "metadata": {
            "tags": []
          },
          "execution_count": 7
        }
      ]
    },
    {
      "cell_type": "markdown",
      "metadata": {
        "id": "HtjfZLM7UoDC"
      },
      "source": [
        "# **동영상 프레임 추출 데이터 불러오기 (for 전이학습)**"
      ]
    },
    {
      "cell_type": "code",
      "metadata": {
        "colab": {
          "base_uri": "https://localhost:8080/"
        },
        "id": "N3S6GAn1CEHu",
        "outputId": "f41c28ac-3d45-4f24-9e76-1352bb3b5133"
      },
      "source": [
        "#팀장 데이터 불러오기 (Pre-Trained Model에 추가학습용) -> 동영상 프레임 추출 사진\n",
        "minsu = glob.glob('./drive/MyDrive/videoimage3/*.png')\n",
        "test_minsu = []\n",
        "for _ in range(0,len(minsu)):\n",
        "  img = cv2.imread(minsu[_])\n",
        "  img = cv2.resize(img,(128,128))\n",
        "  img = cv2.cvtColor(img, cv2.COLOR_BGR2RGB)\n",
        "  test_minsu.append(img.astype(\"float32\")/255.0)\n",
        "  \n",
        "test_minsu = np.array(test_minsu)\n",
        "np.random.shuffle(test_minsu)\n",
        "\n",
        "print(test_minsu.shape)"
      ],
      "execution_count": null,
      "outputs": [
        {
          "output_type": "stream",
          "text": [
            "(1912, 128, 128, 3)\n"
          ],
          "name": "stdout"
        }
      ]
    },
    {
      "cell_type": "markdown",
      "metadata": {
        "id": "u0WA4AYcU4he"
      },
      "source": [
        "# **실제 INPUT Data Load (for testing)**"
      ]
    },
    {
      "cell_type": "code",
      "metadata": {
        "id": "6HS7Ps1TUw-N"
      },
      "source": [
        "#실제 합성된 사진 테스트용 코드\n",
        "real_test = glob.glob('./*.png')\n",
        "real = []\n",
        "img=cv2.imread(real_test[0])\n",
        "img = cv2.resize(img,(128,128))\n",
        "img = cv2.cvtColor(img, cv2.COLOR_BGR2RGB)\n",
        "real.append(img.astype(\"float32\")/255.0)\n",
        "\n",
        "\n",
        "img=cv2.imread(real_test[1])\n",
        "img = cv2.resize(img,(128,128))\n",
        "img = cv2.cvtColor(img, cv2.COLOR_BGR2RGB)\n",
        "real.append(img.astype(\"float32\")/255.0)\n",
        "  \n",
        "real = np.array(real)\n",
        "\n",
        "print(real.shape)"
      ],
      "execution_count": null,
      "outputs": []
    },
    {
      "cell_type": "markdown",
      "metadata": {
        "id": "AXhT-r3ZVBYK"
      },
      "source": [
        "# **동영상 프레임 추출 Data + Input Data (For 전이학습)**"
      ]
    },
    {
      "cell_type": "code",
      "metadata": {
        "colab": {
          "base_uri": "https://localhost:8080/"
        },
        "id": "kuowyrjcHG6M",
        "outputId": "71ab283c-a347-48ac-ec8c-9536380db1ae"
      },
      "source": [
        "real = []\n",
        "img=cv2.imread(real_test[1])\n",
        "img = cv2.resize(img,(128,128))\n",
        "img = cv2.cvtColor(img, cv2.COLOR_BGR2RGB)\n",
        "real.append(img.astype(\"float32\")/255.0)\n",
        "real=real*5\n",
        "real = np.array(real)\n",
        "\n",
        "real = np.vstack((real,test_minsu))\n",
        "print(real.shape)\n",
        "#np.random.shuffle(real)"
      ],
      "execution_count": null,
      "outputs": [
        {
          "output_type": "stream",
          "text": [
            "(1917, 128, 128, 3)\n"
          ],
          "name": "stdout"
        }
      ]
    },
    {
      "cell_type": "markdown",
      "metadata": {
        "id": "ANP06WDFVNzc"
      },
      "source": [
        "# **AutoEncoder Using CNN (For train pre-trained model with K-FACE Dataset)**"
      ]
    },
    {
      "cell_type": "code",
      "metadata": {
        "id": "FdYqVLT6SuTJ"
      },
      "source": [
        "# 오토인코더 모델 정의\n",
        "def Autoencoder():\n",
        "\n",
        "  X = tf.keras.layers.Input(shape=[128,128,3])\n",
        "\n",
        "  #Encoder (Convolution layer 4겹)\n",
        "  H = tf.keras.layers.Conv2D(32,(4,4),(2,2),activation='relu',padding='same')(X)\n",
        "  H = tf.keras.layers.Conv2D(32*2,(4,4), (2,2),activation='relu',padding='same')(H)\n",
        "  H = tf.keras.layers.Conv2D(32*4, (4,4),(2,2),activation='relu',padding='same')(H)\n",
        "  H = tf.keras.layers.Conv2D(32*8, (4,4),(2,2),activation='relu',padding='same')(H)\n",
        "  H = tf.keras.layers.Conv2D(32*16, (4,4),(2,2),activation='relu',padding='same')(H)\n",
        "\n",
        " \n",
        "\n",
        "  pool_tmp = H.shape.as_list()\n",
        "  pool_tmp=pool_tmp[1:]\n",
        "  \n",
        "  #Fully-Connected\n",
        "  H = tf.keras.layers.Flatten()(H)\n",
        "  flatten_tmp=H.shape.as_list()\n",
        "  flatten_tmp=flatten_tmp[1]\n",
        " \n",
        "  H = tf.keras.layers.Dense(4086,activation='relu')(H)\n",
        "  H = tf.keras.layers.Dense(flatten_tmp,activation='relu')(H)\n",
        "  H = Reshape(pool_tmp)(H)\n",
        "\n",
        "\n",
        "  #Decoder\n",
        "  \n",
        "  H = tf.keras.layers.Conv2DTranspose(32*8,(2,2),strides=(2,2),padding='same',activation='relu')(H)\n",
        "  H = tf.keras.layers.Conv2DTranspose(32*4,(2,2),strides=(2,2),padding='same',activation='relu')(H)\n",
        "  H = tf.keras.layers.Conv2DTranspose(32*2,(2,2),strides=(2,2),padding='same',activation='relu')(H)\n",
        "  H = tf.keras.layers.Conv2DTranspose(32,(2,2),strides=(2,2),padding='same',activation='relu')(H)\n",
        "  H = tf.keras.layers.Conv2DTranspose(3,(2,2),strides=(2,2),padding='same',activation='relu')(H)\n",
        "\n",
        "  model = tf.keras.models.Model(X,H)\n",
        "  model.compile(optimizer='adam',loss='mean_squared_logarithmic_error', metrics=['acc']) #MSLE Loss Funciton 적용\n",
        "\n",
        "  return model\n",
        "\n",
        "ae_model = Autoencoder()\n",
        "ae_model.summary()"
      ],
      "execution_count": null,
      "outputs": []
    },
    {
      "cell_type": "markdown",
      "metadata": {
        "id": "Ean_scMkYmvf"
      },
      "source": [
        "# **Load the model (Pre-trained Model)**"
      ]
    },
    {
      "cell_type": "code",
      "metadata": {
        "id": "92VE7bO3YmPx"
      },
      "source": [
        "ae_model = load_model('./drive/MyDrive/mnist_mlp_model.h5')"
      ],
      "execution_count": null,
      "outputs": []
    },
    {
      "cell_type": "markdown",
      "metadata": {
        "id": "m6QjlkyyWi4j"
      },
      "source": [
        "# **Transfer Training Encoder Freeze Ver.**"
      ]
    },
    {
      "cell_type": "code",
      "metadata": {
        "id": "jJaV3un_j4fA"
      },
      "source": [
        "#전이학습 모델 생성 인코더 동결  VER.\n",
        "X = tf.keras.layers.Input(shape=[128,128,3]) #input layer 생성\n",
        "H = ae_model.layers[1](X)                    #input layer 와 pre-trained model의 첫 번째 layer와 연결\n",
        "\n",
        "for i in range(2,len(ae_model.layers)):      #모든 layer를 이어 붙인다.\n",
        "  H=ae_model.layers[i](H)\n",
        "\n",
        "new_model = tf.keras.models.Model(X,H)       #새로운 모델 new_model 정의\n",
        "\n",
        "for i in range(0,len(ae_model.layers)):      #모든 layer의 trainable을 False 로 설정\n",
        "  new_model.layers[i].trainable=False\n",
        "\n",
        "for i in range(10,len(ae_model.layers)):     #Encoder, FC Freeze, But Decoder set trainable\n",
        "  new_model.layers[i].trainable=True\n",
        "\n",
        "#model의 learning rate를 매우 낮게 설정해 fine tuning 실시.\n",
        "new_model.compile(optimizer=keras.optimizers.Adam(1e-4),loss='mean_squared_logarithmic_error', metrics=['acc']) \n",
        "new_model.summary()"
      ],
      "execution_count": null,
      "outputs": []
    },
    {
      "cell_type": "markdown",
      "metadata": {
        "id": "1iIFcgL9WwZx"
      },
      "source": [
        "# **Transfer Training Decoder Freeze Ver.**"
      ]
    },
    {
      "cell_type": "code",
      "metadata": {
        "id": "hzFLUKYg6raI"
      },
      "source": [
        "#전이학습 모델 생성 디코더 동결  VER.\n",
        "X = tf.keras.layers.Input(shape=[128,128,3]) #input layer 생성\n",
        "H = ae_model.layers[1](X)                    #input layer 와 pre-trained model의 첫 번째 layer와 연결\n",
        "\n",
        "for i in range(2,len(ae_model.layers)):      #모든 layer를 이어 붙인다.\n",
        "  H=ae_model.layers[i](H)\n",
        "\n",
        "new_model = tf.keras.models.Model(X,H)       #새로운 모델 new_model 정의\n",
        "\n",
        "for i in range(0,len(ae_model.layers)):      #모든 layer의 trainable을 False 로 설정\n",
        "  new_model.layers[i].trainable=False\n",
        "\n",
        "for i in range(1,6:     #Encoder, FC Freeze, But Decoder set trainable\n",
        "  new_model.layers[i].trainable=True\n",
        "\n",
        "#model의 learning rate를 매우 낮게 설정해 fine tuning 실시.\n",
        "new_model.compile(optimizer=keras.optimizers.Adam(1e-4),loss='mean_squared_logarithmic_error', metrics=['acc']) \n",
        "new_model.summary()"
      ],
      "execution_count": null,
      "outputs": []
    },
    {
      "cell_type": "markdown",
      "metadata": {
        "id": "sETISi4DW1Zq"
      },
      "source": [
        "# **Transfer Training FC(Fully-Connected) Freeze Ver.**"
      ]
    },
    {
      "cell_type": "code",
      "metadata": {
        "id": "soNfyfWQCE6q"
      },
      "source": [
        "#전이학습 모델 생성 Fully-Connected 동결  VER.\n",
        "X = tf.keras.layers.Input(shape=[128,128,3]) #input layer 생성\n",
        "H = ae_model.layers[1](X)                    #input layer 와 pre-trained model의 첫 번째 layer와 연결\n",
        "\n",
        "for i in range(2,len(ae_model.layers)):      #모든 layer를 이어 붙인다.\n",
        "  H=ae_model.layers[i](H)\n",
        "\n",
        "new_model = tf.keras.models.Model(X,H)       #새로운 모델 new_model 정의\n",
        "\n",
        "for i in range(0,len(ae_model.layers)):      #모든 layer의 trainable을 False 로 설정\n",
        "  new_model.layers[i].trainable=False\n",
        "\n",
        "for i in range(6,10):     #Encoder, FC Freeze, But Decoder set trainable\n",
        "  new_model.layers[i].trainable=True\n",
        "\n",
        "#model의 learning rate를 매우 낮게 설정해 fine tuning 실시.\n",
        "new_model.compile(optimizer=keras.optimizers.Adam(1e-4),loss='mean_squared_logarithmic_error', metrics=['acc']) \n",
        "new_model.summary()"
      ],
      "execution_count": null,
      "outputs": []
    },
    {
      "cell_type": "markdown",
      "metadata": {
        "id": "iDTBeG3EW7vC"
      },
      "source": [
        "# **Set Model-Checkpoint using Validation accuracy**"
      ]
    },
    {
      "cell_type": "code",
      "metadata": {
        "id": "W6Op2061Fhy9"
      },
      "source": [
        "#모델 체크포인트 설정\n",
        "checkpoint_path = 'checkpoint.ckpt'\n",
        "checkpoint = tf.keras.callbacks.ModelCheckpoint(filepath=checkpoint_path,\n",
        "                                                save_weights_only = True,\n",
        "                                                save_best_only = True,\n",
        "                                                monitor='val_acc',\n",
        "                                                verbose=1)"
      ],
      "execution_count": null,
      "outputs": []
    },
    {
      "cell_type": "markdown",
      "metadata": {
        "id": "n2OqwcTwXVyC"
      },
      "source": [
        "# **Training the AutoEncoder using CNN with K-FACE DataSet**"
      ]
    },
    {
      "cell_type": "code",
      "metadata": {
        "id": "iZ9IlcMWSvel"
      },
      "source": [
        "history = ae_model.fit(test_minsu,\n",
        "                      test_minsu,\n",
        "                       batch_size=8, #한번에 학습할 데이터 Batch_size\n",
        "                       epochs=10,      #에포크 설정\n",
        "                       verbose=1,      #학습과정 시각화                     \n",
        "                       callbacks=[checkpoint],  #모델 체크포인트 저장\n",
        "                       validation_split=0.2)         "
      ],
      "execution_count": null,
      "outputs": []
    },
    {
      "cell_type": "markdown",
      "metadata": {
        "id": "ox9mbKDMXhp3"
      },
      "source": [
        "# **Transfer Learning using Pre-trained model (K-FACE)**"
      ]
    },
    {
      "cell_type": "code",
      "metadata": {
        "id": "6Ije4DkgtGu7"
      },
      "source": [
        "history = new_model.fit(real,\n",
        "                      real,\n",
        "                       batch_size=8, #한번에 학습할 데이터 Batch_size\n",
        "                       epochs=1000,      #에포크 설정\n",
        "                       verbose=1,      #학습과정 시각화                       \n",
        "                       callbacks=[checkpoint],  #모델 체크포인트 저장\n",
        "                       validation_split=0.2) \n"
      ],
      "execution_count": null,
      "outputs": []
    },
    {
      "cell_type": "markdown",
      "metadata": {
        "id": "qkt0D1jVXzUf"
      },
      "source": [
        "# **Testing the Pre-trained Model (K-FACE Dataset)**"
      ]
    },
    {
      "cell_type": "code",
      "metadata": {
        "colab": {
          "base_uri": "https://localhost:8080/"
        },
        "id": "JtlPU0eDDLyg",
        "outputId": "11b786e2-61d5-46c5-9660-6677b107b520"
      },
      "source": [
        "ae_images = ae_model.predict(test_minsu) #전이학습 평가\n",
        "ae_images.shape"
      ],
      "execution_count": null,
      "outputs": [
        {
          "output_type": "execute_result",
          "data": {
            "text/plain": [
              "(1912, 128, 128, 3)"
            ]
          },
          "metadata": {
            "tags": []
          },
          "execution_count": 424
        }
      ]
    },
    {
      "cell_type": "code",
      "metadata": {
        "id": "mLCYdDMGXuhF"
      },
      "source": [
        "ae_images = ae_model.predict(real)  #최종 목표 합성물 평가\n",
        "ae_images.shape"
      ],
      "execution_count": null,
      "outputs": []
    },
    {
      "cell_type": "code",
      "metadata": {
        "id": "4Bzu_8gsXwxq"
      },
      "source": [
        "ae_images = ae_model.predict(Y_test)  #Pre-trained Model 평가용\n",
        "ae_images.shape"
      ],
      "execution_count": null,
      "outputs": []
    },
    {
      "cell_type": "markdown",
      "metadata": {
        "id": "Xtwz5ksTYDjy"
      },
      "source": [
        "# **Testing the Transfer Learning Model**"
      ]
    },
    {
      "cell_type": "code",
      "metadata": {
        "colab": {
          "base_uri": "https://localhost:8080/"
        },
        "id": "fZ06M9CKt5H0",
        "outputId": "6aedbda9-ce49-404f-91fc-1d6d1e03f06a"
      },
      "source": [
        "new_images = new_model.predict(test_minsu) #전이학습 평가\n",
        "new_images.shape"
      ],
      "execution_count": null,
      "outputs": [
        {
          "output_type": "execute_result",
          "data": {
            "text/plain": [
              "(1912, 128, 128, 3)"
            ]
          },
          "metadata": {
            "tags": []
          },
          "execution_count": 477
        }
      ]
    },
    {
      "cell_type": "code",
      "metadata": {
        "colab": {
          "base_uri": "https://localhost:8080/"
        },
        "id": "4fI3CQkXt8Wb",
        "outputId": "43bbebee-6f12-4ab8-df2d-545b2e4e573d"
      },
      "source": [
        "new_images = new_model.predict(real)  #최종 목표 합성물 평가\n",
        "new_images.shape"
      ],
      "execution_count": null,
      "outputs": [
        {
          "output_type": "execute_result",
          "data": {
            "text/plain": [
              "(1917, 128, 128, 3)"
            ]
          },
          "metadata": {
            "tags": []
          },
          "execution_count": 537
        }
      ]
    },
    {
      "cell_type": "code",
      "metadata": {
        "colab": {
          "base_uri": "https://localhost:8080/"
        },
        "id": "GvF6qnCat-nL",
        "outputId": "2299d8ee-7040-486b-ca9f-40844a6d3929"
      },
      "source": [
        "new_images = new_model.predict(Y_test)  #Pre-trained Model 평가용\n",
        "new_images.shape"
      ],
      "execution_count": null,
      "outputs": [
        {
          "output_type": "execute_result",
          "data": {
            "text/plain": [
              "(100, 128, 128, 3)"
            ]
          },
          "metadata": {
            "tags": []
          },
          "execution_count": 466
        }
      ]
    },
    {
      "cell_type": "markdown",
      "metadata": {
        "id": "hpV2iOUyYIhG"
      },
      "source": [
        "# **Show the Image (Pre-trained Model)**"
      ]
    },
    {
      "cell_type": "code",
      "metadata": {
        "id": "b56sspxOSxJA"
      },
      "source": [
        "#이미지 출력\n",
        "num = 10 \n",
        "plt.figure(figsize=(20,8))\n",
        "for i in range(10):\n",
        "    # 원본 이미지\n",
        "    ax = plt.subplot(2, num, i+1)\n",
        "    plt.imshow(real[i*10])\n",
        "    plt.title(\"Original %s\" % str(i))\n",
        "    plt.axis('off')\n",
        "    \n",
        "    # 복원 이미지\n",
        "    ax = plt.subplot(2, num, i+num+1)\n",
        "    plt.imshow(ae_images[i*10])\n",
        "    plt.title(\"Auto-encoded %s\" % str(i))\n",
        "    plt.axis('off')\n",
        "    \n",
        "plt.show()"
      ],
      "execution_count": null,
      "outputs": []
    },
    {
      "cell_type": "markdown",
      "metadata": {
        "id": "u_V-_ws4YPg0"
      },
      "source": [
        "# **Show the Image (Transfre Learning Model)**"
      ]
    },
    {
      "cell_type": "code",
      "metadata": {
        "id": "GcOMJsCJYO31"
      },
      "source": [
        "#이미지 출력\n",
        "num = 10 \n",
        "plt.figure(figsize=(20,8))\n",
        "for i in range(10):\n",
        "    # 원본 이미지\n",
        "    ax = plt.subplot(2, num, i+1)\n",
        "    plt.imshow(real[i*10])\n",
        "    plt.title(\"Original %s\" % str(i))\n",
        "    plt.axis('off')\n",
        "    \n",
        "    # 복원 이미지\n",
        "    ax = plt.subplot(2, num, i+num+1)\n",
        "    plt.imshow(ae_images[i*10])\n",
        "    plt.title(\"Auto-encoded %s\" % str(i))\n",
        "    plt.axis('off')\n",
        "    \n",
        "plt.show()"
      ],
      "execution_count": null,
      "outputs": []
    },
    {
      "cell_type": "markdown",
      "metadata": {
        "id": "zla12TUqYTrV"
      },
      "source": [
        "# **Show the Loss and Validation_Loss**"
      ]
    },
    {
      "cell_type": "code",
      "metadata": {
        "id": "HmmvXkjwJDYn"
      },
      "source": [
        "plt.figure(figsize=(12,9))\n",
        "plt.plot(np.arange(1,len(history.history['loss'])+1), history.history['loss'])\n",
        "plt.plot(np.arange(1,len(history.history['val_loss'])+1), history.history['val_loss'])\n",
        "plt.title('Loss / Val Loss', fontsize=20, color='red')\n",
        "plt.xlabel('Epochs', color='red')\n",
        "plt.ylabel('Loss',color='red')\n",
        "plt.legend(['Loss', 'val_loss'], fontsize=15)\n",
        "plt.show()"
      ],
      "execution_count": null,
      "outputs": []
    },
    {
      "cell_type": "markdown",
      "metadata": {
        "id": "BRTkadQrYgA1"
      },
      "source": [
        "# **Save the Model (Pre-trained Model)**"
      ]
    },
    {
      "cell_type": "code",
      "metadata": {
        "id": "xoiQeLUGT9fO"
      },
      "source": [
        "from keras.models import load_model\n",
        "ae_model.save('./drive/MyDrive/mnist_mlp_model.h5')"
      ],
      "execution_count": null,
      "outputs": []
    },
    {
      "cell_type": "markdown",
      "metadata": {
        "id": "aGbgAx--Yv9O"
      },
      "source": [
        "# **Fine tuning (Pre-trained Model)**"
      ]
    },
    {
      "cell_type": "code",
      "metadata": {
        "id": "tHlGYywzUv_O"
      },
      "source": [
        "import keras\n",
        "ae_model.compile(optimizer=keras.optimizers.Adam(1e-5),loss='mean_squared_error', metrics=['acc'])"
      ],
      "execution_count": null,
      "outputs": []
    },
    {
      "cell_type": "markdown",
      "metadata": {
        "id": "b1SgnNhvY2IL"
      },
      "source": [
        "# **Write the images**"
      ]
    },
    {
      "cell_type": "code",
      "metadata": {
        "id": "5YuNAJknO_J2"
      },
      "source": [
        "import cv2\n",
        "from google.colab.patches import cv2_imshow\n",
        "\n",
        "cv2.imwrite('real_test.jpg', cv2.cvtColor(test_minsu[1]*255, cv2.COLOR_BGR2RGB))\n",
        "cv2_imshow(cv2.cvtColor(test_minsu[1]*255, cv2.COLOR_BGR2RGB))\n",
        "\n"
      ],
      "execution_count": null,
      "outputs": []
    }
  ]
}